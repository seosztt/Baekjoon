{
 "cells": [
  {
   "cell_type": "code",
   "execution_count": null,
   "id": "4b3db202",
   "metadata": {},
   "outputs": [],
   "source": [
    "#이상한 출석 번호 부르기1\n",
    "n = int(input())\n",
    "a = map(int, input().split())\n",
    "d=[0]*23\n",
    "for i in a:\n",
    "    d[i-1]+=1\n",
    "for j in range(23):\n",
    "    print(d[j], end=' ')"
   ]
  },
  {
   "cell_type": "code",
   "execution_count": null,
   "id": "adecb42d",
   "metadata": {},
   "outputs": [],
   "source": [
    "#이상한 출석 번호 부르기2\n",
    "n = int(input())\n",
    "a = map(int, input().split())\n",
    "a=list(a)\n",
    "a.reverse()\n",
    "for i in range(n):\n",
    "    print(a[i], end=' ')"
   ]
  },
  {
   "cell_type": "code",
   "execution_count": null,
   "id": "860177a9",
   "metadata": {},
   "outputs": [],
   "source": [
    "#이상한 출석 번호 부르기3\n",
    "n = int(input())\n",
    "a = map(int, input().split())\n",
    "a=list(a)\n",
    "a.reverse()\n",
    "print(min(a))"
   ]
  },
  {
   "cell_type": "code",
   "execution_count": null,
   "id": "314a39f7",
   "metadata": {},
   "outputs": [],
   "source": [
    "#바둑판에 흰 돌 놓기\n",
    "import numpy as np\n",
    "d=np.zeros((19,19)).astype(int)\n",
    "n=int(input())\n",
    "for i in range(n):\n",
    "    x,y=map(int, input().split())\n",
    "    d[x-1][y-1]=1\n",
    "for j in range(19):\n",
    "    for k in range(18):\n",
    "        print(d[j][k], end=' ')\n",
    "    print(d[j][18])"
   ]
  },
  {
   "cell_type": "code",
   "execution_count": null,
   "id": "ae914e2b",
   "metadata": {},
   "outputs": [],
   "source": [
    "#바둑알 십자 뒤집기\n",
    "import numpy as np\n",
    "d=np.zeros((19,19)).astype(int)\n",
    "for i in range(19):\n",
    "        d[i] = input().split()\n",
    "n=int(input())\n",
    "for i in range(n):\n",
    "    x,y=map(int, input().split())\n",
    "    for j in range(19):\n",
    "        if d[x-1][j]==0:\n",
    "            d[x-1][j]=1\n",
    "        else:\n",
    "            d[x-1][j]=0\n",
    "    for k in range(19):\n",
    "        if d[k][y-1]==0:\n",
    "            d[k][y-1]=1\n",
    "        else:\n",
    "            d[k][y-1]=0\n",
    "for s in range(19):\n",
    "    for t in range(18):\n",
    "        print(d[s][t], end=' ')\n",
    "    print(d[s][18])"
   ]
  },
  {
   "cell_type": "code",
   "execution_count": null,
   "id": "cac64c9e",
   "metadata": {},
   "outputs": [],
   "source": [
    "#설탕과자 뽑기\n",
    "h,w=map(int, input().split())\n",
    "import numpy as np\n",
    "D=np.zeros((h,w)).astype(int)\n",
    "n=int(input())\n",
    "for i in range(n):\n",
    "    l,d,x,y=map(int, input().split())\n",
    "    if d:\n",
    "        for j in range(l):\n",
    "            D[x-1+j][y-1]=1\n",
    "    else:\n",
    "        for j in range(l):\n",
    "            D[x-1][y-1+j]=1\n",
    "for s in range(h):\n",
    "    for t in range(w-1):\n",
    "        print(D[s][t], end=' ')\n",
    "    print(D[s][w-1])"
   ]
  },
  {
   "cell_type": "code",
   "execution_count": null,
   "id": "bf200b68",
   "metadata": {},
   "outputs": [],
   "source": [
    "#성실한 개미\n",
    "import numpy as np\n",
    "d=np.zeros((10,10)).astype(int)\n",
    "for i in range(10):\n",
    "        d[i] = input().split()\n",
    "x,y=1,1\n",
    "while ((d[x,y]!=2) and (d[x+1,y]!=1 or d[x,y+1]!=1)):\n",
    "    if d[x,y+1]==0 or d[x,y+1]==2:\n",
    "        d[x,y]=9\n",
    "        y+=1\n",
    "    else:\n",
    "        d[x,y]=9\n",
    "        x+=1\n",
    "d[x,y]=9\n",
    "for s in range(10):\n",
    "    for t in range(9):\n",
    "        print(d[s][t], end=' ')\n",
    "    print(d[s][9])"
   ]
  }
 ],
 "metadata": {
  "kernelspec": {
   "display_name": "Python 3",
   "language": "python",
   "name": "python3"
  },
  "language_info": {
   "codemirror_mode": {
    "name": "ipython",
    "version": 3
   },
   "file_extension": ".py",
   "mimetype": "text/x-python",
   "name": "python",
   "nbconvert_exporter": "python",
   "pygments_lexer": "ipython3",
   "version": "3.8.8"
  }
 },
 "nbformat": 4,
 "nbformat_minor": 5
}
