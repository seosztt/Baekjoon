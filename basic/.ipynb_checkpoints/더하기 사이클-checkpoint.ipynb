{
 "cells": [
  {
   "cell_type": "markdown",
   "id": "901392c4",
   "metadata": {},
   "source": [
    "# 문제\n",
    "0보다 크거나 같고, 99보다 작거나 같은 정수가 주어질 때 다음과 같은 연산을 할 수 있다. 먼저 주어진 수가 10보다 작다면 앞에 0을 붙여 두 자리 수로 만들고, 각 자리의 숫자를 더한다. 그 다음, 주어진 수의 가장 오른쪽 자리 수와 앞에서 구한 합의 가장 오른쪽 자리 수를 이어 붙이면 새로운 수를 만들 수 있다. 다음 예를 보자.\n",
    "\n",
    "26부터 시작한다. 2+6 = 8이다. 새로운 수는 68이다. 6+8 = 14이다. 새로운 수는 84이다. 8+4 = 12이다. 새로운 수는 42이다. 4+2 = 6이다. 새로운 수는 26이다.\n",
    "\n",
    "위의 예는 4번만에 원래 수로 돌아올 수 있다. 따라서 26의 사이클의 길이는 4이다.\n",
    "\n",
    "N이 주어졌을 때, N의 사이클의 길이를 구하는 프로그램을 작성하시오."
   ]
  },
  {
   "cell_type": "markdown",
   "id": "79b4b7c7",
   "metadata": {},
   "source": [
    "# 입력\n",
    "첫째 줄에 N이 주어진다. N은 0보다 크거나 같고, 99보다 작거나 같은 정수이다."
   ]
  },
  {
   "cell_type": "markdown",
   "id": "1976d5c9",
   "metadata": {},
   "source": [
    "# 출력\n",
    "첫째 줄에 N의 사이클 길이를 출력한다."
   ]
  },
  {
   "cell_type": "code",
   "execution_count": 1,
   "id": "4b818793",
   "metadata": {},
   "outputs": [
    {
     "name": "stdout",
     "output_type": "stream",
     "text": [
      "26\n",
      "4\n"
     ]
    }
   ],
   "source": [
    "n=input()\n",
    "start=n\n",
    "if n[-1]=='0':\n",
    "    n=n[0]\n",
    "else:\n",
    "    if len(n)==1:\n",
    "        t=[n,n]\n",
    "        n=''.join(t)\n",
    "    else:\n",
    "        t=[n[-1],str(int(n[0])+int(n[1]))[-1]]\n",
    "        n=''.join(t)\n",
    "count=1\n",
    "while n!=start:\n",
    "    if n[-1]=='0':\n",
    "        n=n[0]\n",
    "        count+=1\n",
    "    else:\n",
    "        if len(n)==1:\n",
    "            t=[n,n]\n",
    "            n=''.join(t)\n",
    "            count+=1\n",
    "        else:\n",
    "            t=[n[-1],str(int(n[0])+int(n[1]))[-1]]\n",
    "            n=''.join(t)\n",
    "            count+=1\n",
    "print(count)"
   ]
  }
 ],
 "metadata": {
  "kernelspec": {
   "display_name": "Python 3 (ipykernel)",
   "language": "python",
   "name": "python3"
  },
  "language_info": {
   "codemirror_mode": {
    "name": "ipython",
    "version": 3
   },
   "file_extension": ".py",
   "mimetype": "text/x-python",
   "name": "python",
   "nbconvert_exporter": "python",
   "pygments_lexer": "ipython3",
   "version": "3.8.8"
  },
  "toc": {
   "base_numbering": 1,
   "nav_menu": {},
   "number_sections": true,
   "sideBar": true,
   "skip_h1_title": false,
   "title_cell": "Table of Contents",
   "title_sidebar": "Contents",
   "toc_cell": false,
   "toc_position": {},
   "toc_section_display": true,
   "toc_window_display": false
  }
 },
 "nbformat": 4,
 "nbformat_minor": 5
}
