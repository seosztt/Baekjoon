{
 "cells": [
  {
   "cell_type": "code",
   "execution_count": 13,
   "id": "3a23158e",
   "metadata": {},
   "outputs": [
    {
     "name": "stdout",
     "output_type": "stream",
     "text": [
      "221 231\n",
      "132\n"
     ]
    }
   ],
   "source": [
    "# My solution\n",
    "a, b=input().split()\n",
    "A=[]\n",
    "B=[]\n",
    "for i in range(3):\n",
    "    A.append(a[2-i])\n",
    "    B.append(b[2-i])\n",
    "a=int(''.join(A))\n",
    "b=int(''.join(B))\n",
    "if a<b:\n",
    "    print(b)\n",
    "else:\n",
    "    print(a)"
   ]
  },
  {
   "cell_type": "code",
   "execution_count": null,
   "id": "f5552d18",
   "metadata": {},
   "outputs": [],
   "source": [
    "# other solution\n",
    "a, b =input().split()\n",
    "\n",
    "def reading(k):\n",
    "    k = k[::-1] # 문자열을 더 쉽게 reverse 하는 방법\n",
    "    return int(k)\n",
    "\n",
    "print(max([reading(a),reading(b)]))"
   ]
  }
 ],
 "metadata": {
  "kernelspec": {
   "display_name": "Python 3",
   "language": "python",
   "name": "python3"
  },
  "language_info": {
   "codemirror_mode": {
    "name": "ipython",
    "version": 3
   },
   "file_extension": ".py",
   "mimetype": "text/x-python",
   "name": "python",
   "nbconvert_exporter": "python",
   "pygments_lexer": "ipython3",
   "version": "3.8.8"
  }
 },
 "nbformat": 4,
 "nbformat_minor": 5
}
