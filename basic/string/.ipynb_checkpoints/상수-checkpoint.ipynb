{
 "cells": [
  {
   "cell_type": "markdown",
   "id": "ba21fe10",
   "metadata": {},
   "source": [
    "# 문제\n",
    "상근이의 동생 상수는 수학을 정말 못한다. 상수는 숫자를 읽는데 문제가 있다. 이렇게 수학을 못하는 상수를 위해서 상근이는 수의 크기를 비교하는 문제를 내주었다. 상근이는 세 자리 수 두 개를 칠판에 써주었다. 그 다음에 크기가 큰 수를 말해보라고 했다.\n",
    "\n",
    "상수는 수를 다른 사람과 다르게 거꾸로 읽는다. 예를 들어, 734와 893을 칠판에 적었다면, 상수는 이 수를 437과 398로 읽는다. 따라서, 상수는 두 수중 큰 수인 437을 큰 수라고 말할 것이다.\n",
    "\n",
    "두 수가 주어졌을 때, 상수의 대답을 출력하는 프로그램을 작성하시오."
   ]
  },
  {
   "cell_type": "markdown",
   "id": "7bd2cc75",
   "metadata": {},
   "source": [
    "# 입력\n",
    "첫째 줄에 상근이가 칠판에 적은 두 수 A와 B가 주어진다. 두 수는 같지 않은 세 자리 수이며, 0이 포함되어 있지 않다."
   ]
  },
  {
   "cell_type": "markdown",
   "id": "33c84ed3",
   "metadata": {},
   "source": [
    "# 출력\n",
    "첫째 줄에 상수의 대답을 출력한다."
   ]
  },
  {
   "cell_type": "code",
   "execution_count": 13,
   "id": "3a23158e",
   "metadata": {},
   "outputs": [
    {
     "name": "stdout",
     "output_type": "stream",
     "text": [
      "221 231\n",
      "132\n"
     ]
    }
   ],
   "source": [
    "# My solution\n",
    "a, b=input().split()\n",
    "A=[]\n",
    "B=[]\n",
    "for i in range(3):\n",
    "    A.append(a[2-i])\n",
    "    B.append(b[2-i])\n",
    "a=int(''.join(A))\n",
    "b=int(''.join(B))\n",
    "if a<b:\n",
    "    print(b)\n",
    "else:\n",
    "    print(a)"
   ]
  },
  {
   "cell_type": "code",
   "execution_count": 1,
   "id": "f5552d18",
   "metadata": {},
   "outputs": [
    {
     "name": "stdout",
     "output_type": "stream",
     "text": [
      "221 231\n",
      "132\n"
     ]
    }
   ],
   "source": [
    "# other solution\n",
    "a, b =input().split()\n",
    "\n",
    "def reading(k):\n",
    "    k = k[::-1] # 문자열을 더 쉽게 reverse 하는 방법\n",
    "    return int(k)\n",
    "\n",
    "print(max([reading(a),reading(b)]))"
   ]
  }
 ],
 "metadata": {
  "kernelspec": {
   "display_name": "Python 3 (ipykernel)",
   "language": "python",
   "name": "python3"
  },
  "language_info": {
   "codemirror_mode": {
    "name": "ipython",
    "version": 3
   },
   "file_extension": ".py",
   "mimetype": "text/x-python",
   "name": "python",
   "nbconvert_exporter": "python",
   "pygments_lexer": "ipython3",
   "version": "3.8.8"
  },
  "toc": {
   "base_numbering": 1,
   "nav_menu": {},
   "number_sections": true,
   "sideBar": true,
   "skip_h1_title": false,
   "title_cell": "Table of Contents",
   "title_sidebar": "Contents",
   "toc_cell": false,
   "toc_position": {},
   "toc_section_display": true,
   "toc_window_display": false
  }
 },
 "nbformat": 4,
 "nbformat_minor": 5
}
