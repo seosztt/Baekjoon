{
 "cells": [
  {
   "cell_type": "code",
   "execution_count": 6,
   "id": "fd6bf60e",
   "metadata": {},
   "outputs": [
    {
     "name": "stdout",
     "output_type": "stream",
     "text": [
      "dz=ak\n",
      "3\n"
     ]
    }
   ],
   "source": [
    "a=input()\n",
    "d=['c=','c-','d-','lj','nj','s=','z=','dz=']\n",
    "count=0\n",
    "for i in d:\n",
    "    count+=(a.count(i))\n",
    "print(len(a)-count)"
   ]
  }
 ],
 "metadata": {
  "kernelspec": {
   "display_name": "Python 3",
   "language": "python",
   "name": "python3"
  },
  "language_info": {
   "codemirror_mode": {
    "name": "ipython",
    "version": 3
   },
   "file_extension": ".py",
   "mimetype": "text/x-python",
   "name": "python",
   "nbconvert_exporter": "python",
   "pygments_lexer": "ipython3",
   "version": "3.8.8"
  }
 },
 "nbformat": 4,
 "nbformat_minor": 5
}
