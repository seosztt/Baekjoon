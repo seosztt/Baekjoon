{
 "cells": [
  {
   "cell_type": "markdown",
   "id": "c105e09f",
   "metadata": {},
   "source": [
    "# 문제\n",
    "어떤 양의 정수 X의 각 자리가 등차수열을 이룬다면, 그 수를 한수라고 한다. 등차수열은 연속된 두 개의 수의 차이가 일정한 수열을 말한다. N이 주어졌을 때, 1보다 크거나 같고, N보다 작거나 같은 한수의 개수를 출력하는 프로그램을 작성하시오. "
   ]
  },
  {
   "cell_type": "markdown",
   "id": "c561d0d3",
   "metadata": {},
   "source": [
    "# 입력\n",
    "첫째 줄에 1,000보다 작거나 같은 자연수 N이 주어진다."
   ]
  },
  {
   "cell_type": "markdown",
   "id": "f6579f50",
   "metadata": {},
   "source": [
    "# 출력\n",
    "첫째 줄에 1보다 크거나 같고, N보다 작거나 같은 한수의 개수를 출력한다."
   ]
  },
  {
   "cell_type": "code",
   "execution_count": 6,
   "id": "98fdd563",
   "metadata": {},
   "outputs": [
    {
     "name": "stdout",
     "output_type": "stream",
     "text": [
      "1000\n",
      "144\n"
     ]
    }
   ],
   "source": [
    "def han(n):\n",
    "    if n<=99:\n",
    "        return True\n",
    "    elif n==1000:\n",
    "        return False\n",
    "    else:\n",
    "        a=str(n)\n",
    "        if int(a[2])-int(a[1])==int(a[1])-int(a[0]):\n",
    "            return True\n",
    "        else:\n",
    "            return False\n",
    "\n",
    "n=int(input())\n",
    "count=0\n",
    "for i in range(1, n+1):\n",
    "    if han(i)==True:\n",
    "        count+=1\n",
    "\n",
    "print(count)"
   ]
  }
 ],
 "metadata": {
  "kernelspec": {
   "display_name": "Python 3 (ipykernel)",
   "language": "python",
   "name": "python3"
  },
  "language_info": {
   "codemirror_mode": {
    "name": "ipython",
    "version": 3
   },
   "file_extension": ".py",
   "mimetype": "text/x-python",
   "name": "python",
   "nbconvert_exporter": "python",
   "pygments_lexer": "ipython3",
   "version": "3.8.8"
  },
  "toc": {
   "base_numbering": 1,
   "nav_menu": {},
   "number_sections": true,
   "sideBar": true,
   "skip_h1_title": false,
   "title_cell": "Table of Contents",
   "title_sidebar": "Contents",
   "toc_cell": false,
   "toc_position": {},
   "toc_section_display": true,
   "toc_window_display": false
  }
 },
 "nbformat": 4,
 "nbformat_minor": 5
}
