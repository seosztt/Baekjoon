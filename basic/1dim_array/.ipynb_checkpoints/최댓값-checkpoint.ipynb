{
 "cells": [
  {
   "cell_type": "markdown",
   "id": "16d4786c",
   "metadata": {},
   "source": [
    "# 문제\n",
    "9개의 서로 다른 자연수가 주어질 때, 이들 중 최댓값을 찾고 그 최댓값이 몇 번째 수인지를 구하는 프로그램을 작성하시오.\n",
    "\n",
    "예를 들어, 서로 다른 9개의 자연수\n",
    "\n",
    "3, 29, 38, 12, 57, 74, 40, 85, 61\n",
    "\n",
    "이 주어지면, 이들 중 최댓값은 85이고, 이 값은 8번째 수이다."
   ]
  },
  {
   "cell_type": "markdown",
   "id": "d6773d06",
   "metadata": {},
   "source": [
    "# 입력\n",
    "첫째 줄부터 아홉 번째 줄까지 한 줄에 하나의 자연수가 주어진다. 주어지는 자연수는 100 보다 작다."
   ]
  },
  {
   "cell_type": "markdown",
   "id": "ae89640c",
   "metadata": {},
   "source": [
    "# 출력\n",
    "첫째 줄에 최댓값을 출력하고, 둘째 줄에 최댓값이 몇 번째 수인지를 출력한다."
   ]
  },
  {
   "cell_type": "code",
   "execution_count": 4,
   "id": "0700f139",
   "metadata": {},
   "outputs": [
    {
     "name": "stdout",
     "output_type": "stream",
     "text": [
      "3\n",
      "29\n",
      "38\n",
      "12\n",
      "57\n",
      "74\n",
      "40\n",
      "85\n",
      "61\n",
      "85\n",
      "8\n"
     ]
    }
   ],
   "source": [
    "d=[]\n",
    "for i in range(9):\n",
    "    d.append(int(input()))             \n",
    "print(max(d))\n",
    "print(d.index(max(d))+1)"
   ]
  }
 ],
 "metadata": {
  "kernelspec": {
   "display_name": "Python 3 (ipykernel)",
   "language": "python",
   "name": "python3"
  },
  "language_info": {
   "codemirror_mode": {
    "name": "ipython",
    "version": 3
   },
   "file_extension": ".py",
   "mimetype": "text/x-python",
   "name": "python",
   "nbconvert_exporter": "python",
   "pygments_lexer": "ipython3",
   "version": "3.8.8"
  },
  "toc": {
   "base_numbering": 1,
   "nav_menu": {},
   "number_sections": true,
   "sideBar": true,
   "skip_h1_title": false,
   "title_cell": "Table of Contents",
   "title_sidebar": "Contents",
   "toc_cell": false,
   "toc_position": {},
   "toc_section_display": true,
   "toc_window_display": false
  }
 },
 "nbformat": 4,
 "nbformat_minor": 5
}
