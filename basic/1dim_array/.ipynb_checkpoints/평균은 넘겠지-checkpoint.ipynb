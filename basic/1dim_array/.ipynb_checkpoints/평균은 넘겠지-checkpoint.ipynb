{
 "cells": [
  {
   "cell_type": "markdown",
   "id": "27e49b2c",
   "metadata": {},
   "source": [
    "# 문제\n",
    "대학생 새내기들의 90%는 자신이 반에서 평균은 넘는다고 생각한다. 당신은 그들에게 슬픈 진실을 알려줘야 한다."
   ]
  },
  {
   "cell_type": "markdown",
   "id": "2439c315",
   "metadata": {},
   "source": [
    "# 입력\n",
    "첫째 줄에는 테스트 케이스의 개수 C가 주어진다.\n",
    "\n",
    "둘째 줄부터 각 테스트 케이스마다 학생의 수 N(1 ≤ N ≤ 1000, N은 정수)이 첫 수로 주어지고, 이어서 N명의 점수가 주어진다. 점수는 0보다 크거나 같고, 100보다 작거나 같은 정수이다."
   ]
  },
  {
   "cell_type": "markdown",
   "id": "b79cd663",
   "metadata": {},
   "source": [
    "# 출력\n",
    "각 케이스마다 한 줄씩 평균을 넘는 학생들의 비율을 반올림하여 소수점 셋째 자리까지 출력한다."
   ]
  },
  {
   "cell_type": "code",
   "execution_count": 4,
   "id": "6bccf758",
   "metadata": {},
   "outputs": [
    {
     "name": "stdout",
     "output_type": "stream",
     "text": [
      "1\n",
      "7 100 95 90 80 70 60 50\n",
      "57.143%\n"
     ]
    }
   ],
   "source": [
    "c=int(input())\n",
    "for i in range(c):\n",
    "    d=input().split()\n",
    "    for j in range(len(d)):\n",
    "        d[j]=int(d[j])\n",
    "    m=sum(d[1:])/d[0]\n",
    "    count=0\n",
    "    for k in range(1,d[0]+1):\n",
    "        if d[k]>m:\n",
    "            count+=1\n",
    "    print('{:.3f}%'.format(count*100/d[0]))"
   ]
  }
 ],
 "metadata": {
  "kernelspec": {
   "display_name": "Python 3 (ipykernel)",
   "language": "python",
   "name": "python3"
  },
  "language_info": {
   "codemirror_mode": {
    "name": "ipython",
    "version": 3
   },
   "file_extension": ".py",
   "mimetype": "text/x-python",
   "name": "python",
   "nbconvert_exporter": "python",
   "pygments_lexer": "ipython3",
   "version": "3.8.8"
  },
  "toc": {
   "base_numbering": 1,
   "nav_menu": {},
   "number_sections": true,
   "sideBar": true,
   "skip_h1_title": false,
   "title_cell": "Table of Contents",
   "title_sidebar": "Contents",
   "toc_cell": false,
   "toc_position": {},
   "toc_section_display": true,
   "toc_window_display": false
  }
 },
 "nbformat": 4,
 "nbformat_minor": 5
}
