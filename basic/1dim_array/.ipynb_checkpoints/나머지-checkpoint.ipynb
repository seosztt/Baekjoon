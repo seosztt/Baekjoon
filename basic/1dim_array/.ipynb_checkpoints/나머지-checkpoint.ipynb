{
 "cells": [
  {
   "cell_type": "markdown",
   "id": "e2a88791",
   "metadata": {},
   "source": [
    "# 문제\n",
    "두 자연수 A와 B가 있을 때, A%B는 A를 B로 나눈 나머지 이다. 예를 들어, 7, 14, 27, 38을 3으로 나눈 나머지는 1, 2, 0, 2이다. \n",
    "\n",
    "수 10개를 입력받은 뒤, 이를 42로 나눈 나머지를 구한다. 그 다음 서로 다른 값이 몇 개 있는지 출력하는 프로그램을 작성하시오."
   ]
  },
  {
   "cell_type": "markdown",
   "id": "13021e91",
   "metadata": {},
   "source": [
    "# 입력\n",
    "첫째 줄부터 열번째 줄 까지 숫자가 한 줄에 하나씩 주어진다. 이 숫자는 1,000보다 작거나 같고, 음이 아닌 정수이다."
   ]
  },
  {
   "cell_type": "markdown",
   "id": "676bdcfb",
   "metadata": {},
   "source": [
    "# 출력\n",
    "첫째 줄에, 42로 나누었을 때, 서로 다른 나머지가 몇 개 있는지 출력한다."
   ]
  },
  {
   "cell_type": "code",
   "execution_count": 3,
   "id": "d2a9a1da",
   "metadata": {
    "scrolled": true
   },
   "outputs": [
    {
     "name": "stdout",
     "output_type": "stream",
     "text": [
      "42\n",
      "84\n",
      "252\n",
      "420\n",
      "840\n",
      "126\n",
      "42\n",
      "84\n",
      "420\n",
      "126\n",
      "1\n"
     ]
    }
   ],
   "source": [
    "d=[]\n",
    "for i in range(10):\n",
    "    a=int(input())\n",
    "    d.append(a%42)\n",
    "print(len(set(d)))"
   ]
  }
 ],
 "metadata": {
  "kernelspec": {
   "display_name": "Python 3 (ipykernel)",
   "language": "python",
   "name": "python3"
  },
  "language_info": {
   "codemirror_mode": {
    "name": "ipython",
    "version": 3
   },
   "file_extension": ".py",
   "mimetype": "text/x-python",
   "name": "python",
   "nbconvert_exporter": "python",
   "pygments_lexer": "ipython3",
   "version": "3.8.8"
  },
  "toc": {
   "base_numbering": 1,
   "nav_menu": {},
   "number_sections": true,
   "sideBar": true,
   "skip_h1_title": false,
   "title_cell": "Table of Contents",
   "title_sidebar": "Contents",
   "toc_cell": false,
   "toc_position": {},
   "toc_section_display": true,
   "toc_window_display": false
  }
 },
 "nbformat": 4,
 "nbformat_minor": 5
}
