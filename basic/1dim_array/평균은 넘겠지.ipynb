{
 "cells": [
  {
   "cell_type": "code",
   "execution_count": 4,
   "id": "6bccf758",
   "metadata": {},
   "outputs": [
    {
     "name": "stdout",
     "output_type": "stream",
     "text": [
      "1\n",
      "7 100 95 90 80 70 60 50\n",
      "57.143%\n"
     ]
    }
   ],
   "source": [
    "c=int(input())\n",
    "for i in range(c):\n",
    "    d=input().split()\n",
    "    for j in range(len(d)):\n",
    "        d[j]=int(d[j])\n",
    "    m=sum(d[1:])/d[0]\n",
    "    count=0\n",
    "    for k in range(1,d[0]+1):\n",
    "        if d[k]>m:\n",
    "            count+=1\n",
    "    print('{:.3f}%'.format(count*100/d[0]))"
   ]
  }
 ],
 "metadata": {
  "kernelspec": {
   "display_name": "Python 3",
   "language": "python",
   "name": "python3"
  },
  "language_info": {
   "codemirror_mode": {
    "name": "ipython",
    "version": 3
   },
   "file_extension": ".py",
   "mimetype": "text/x-python",
   "name": "python",
   "nbconvert_exporter": "python",
   "pygments_lexer": "ipython3",
   "version": "3.8.8"
  }
 },
 "nbformat": 4,
 "nbformat_minor": 5
}
