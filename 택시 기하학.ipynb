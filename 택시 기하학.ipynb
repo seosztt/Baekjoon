{
 "cells": [
  {
   "cell_type": "code",
   "execution_count": null,
   "id": "0b656054",
   "metadata": {},
   "outputs": [],
   "source": [
    "r=int(input())\n",
    "pi=3.14159265359\n",
    "print(pi*r*r)\n",
    "print(2*r*r)"
   ]
  }
 ],
 "metadata": {
  "kernelspec": {
   "display_name": "Python 3",
   "language": "python",
   "name": "python3"
  },
  "language_info": {
   "codemirror_mode": {
    "name": "ipython",
    "version": 3
   },
   "file_extension": ".py",
   "mimetype": "text/x-python",
   "name": "python",
   "nbconvert_exporter": "python",
   "pygments_lexer": "ipython3",
   "version": "3.8.8"
  }
 },
 "nbformat": 4,
 "nbformat_minor": 5
}
