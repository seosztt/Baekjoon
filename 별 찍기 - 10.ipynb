{
 "cells": [
  {
   "cell_type": "code",
   "execution_count": 4,
   "id": "96f4610f",
   "metadata": {},
   "outputs": [
    {
     "ename": "SyntaxError",
     "evalue": "invalid syntax (<ipython-input-4-423d4bde6e35>, line 5)",
     "output_type": "error",
     "traceback": [
      "\u001b[1;36m  File \u001b[1;32m\"<ipython-input-4-423d4bde6e35>\"\u001b[1;36m, line \u001b[1;32m5\u001b[0m\n\u001b[1;33m    1 2 3\u001b[0m\n\u001b[1;37m      ^\u001b[0m\n\u001b[1;31mSyntaxError\u001b[0m\u001b[1;31m:\u001b[0m invalid syntax\n"
     ]
    }
   ],
   "source": [
    "def remove(s, k):\n",
    "    try:\n",
    "        x,y=0,0\n",
    "        while x and y:\n",
    "            for i in range(3**(k-1)):\n",
    "                s[(3**(k-1))*(x+1)+i][(3**(k-1))*(y+1)+i]=' '\n",
    "                \n",
    "def star(n):\n",
    "    s=[['*']*n]*n\n",
    "    k=0\n",
    "    while n!=1:\n",
    "        n//=n\n",
    "        k+=1\n",
    "    for i in range(1,k+1):\n",
    "        for i in range(3**(k-i)):\n",
    "            for j in range((q+1)*3+(3**(k-1)), (q+1)*3+2*(3**(k-1))):\n",
    "\n",
    "        \n",
    "range((3**(k-1)), 3*(3**(k-1)))\n",
    "3**(k-1)\n",
    "1 2 3\n",
    "3 6 9\n",
    "9 18 27\n",
    "\n",
    "\n",
    "d=[]\n",
    "for i in range(n):\n",
    "    d.append(''.join(s[i]))\n",
    "d\n",
    "print('\\n'.join(d))"
   ]
  },
  {
   "cell_type": "code",
   "execution_count": 21,
   "id": "04240e03",
   "metadata": {},
   "outputs": [
    {
     "ename": "TypeError",
     "evalue": "sequence item 0: expected str instance, list found",
     "output_type": "error",
     "traceback": [
      "\u001b[1;31m---------------------------------------------------------------------------\u001b[0m",
      "\u001b[1;31mTypeError\u001b[0m                                 Traceback (most recent call last)",
      "\u001b[1;32m<ipython-input-21-9b48335c3cab>\u001b[0m in \u001b[0;36m<module>\u001b[1;34m\u001b[0m\n\u001b[0;32m      1\u001b[0m \u001b[0ms\u001b[0m\u001b[1;33m=\u001b[0m\u001b[1;33m[\u001b[0m\u001b[1;33m[\u001b[0m\u001b[1;34m'*'\u001b[0m\u001b[1;33m]\u001b[0m\u001b[1;33m*\u001b[0m\u001b[1;36m5\u001b[0m\u001b[1;33m]\u001b[0m\u001b[1;33m*\u001b[0m\u001b[1;36m5\u001b[0m\u001b[1;33m\u001b[0m\u001b[1;33m\u001b[0m\u001b[0m\n\u001b[1;32m----> 2\u001b[1;33m \u001b[0mprint\u001b[0m\u001b[1;33m(\u001b[0m\u001b[1;34m'\\n'\u001b[0m\u001b[1;33m.\u001b[0m\u001b[0mjoin\u001b[0m\u001b[1;33m(\u001b[0m\u001b[0ms\u001b[0m\u001b[1;33m)\u001b[0m\u001b[1;33m)\u001b[0m\u001b[1;33m\u001b[0m\u001b[1;33m\u001b[0m\u001b[0m\n\u001b[0m",
      "\u001b[1;31mTypeError\u001b[0m: sequence item 0: expected str instance, list found"
     ]
    }
   ],
   "source": [
    "s=['*'*5]*5\n",
    "print('\\n'.join(s))"
   ]
  },
  {
   "cell_type": "code",
   "execution_count": 16,
   "id": "bbf27b6c",
   "metadata": {},
   "outputs": [
    {
     "name": "stdout",
     "output_type": "stream",
     "text": [
      "2\n"
     ]
    }
   ],
   "source": [
    "k=0\n",
    "n=\n",
    "while n!=1:\n",
    "    n//=3\n",
    "    k+=1\n",
    "print(k)"
   ]
  },
  {
   "cell_type": "code",
   "execution_count": 20,
   "id": "2e3ff582",
   "metadata": {
    "scrolled": true
   },
   "outputs": [
    {
     "data": {
      "text/plain": [
       "range(1, 2)"
      ]
     },
     "execution_count": 20,
     "metadata": {},
     "output_type": "execute_result"
    }
   ],
   "source": [
    "k=1\n",
    "range((3**(k-1)), 2*(3**(k-1)))"
   ]
  },
  {
   "cell_type": "code",
   "execution_count": 25,
   "id": "ca0744ce",
   "metadata": {},
   "outputs": [
    {
     "name": "stdout",
     "output_type": "stream",
     "text": [
      "*****\n",
      "*****\n",
      "*****\n",
      "*****\n",
      "*****\n"
     ]
    }
   ],
   "source": [
    "s=[['*']*5]*5\n",
    "s\n",
    "d=[]\n",
    "for i in range(n):\n",
    "    d.append(''.join(s[i]))\n",
    "d\n",
    "print('\\n'.join(d))"
   ]
  },
  {
   "cell_type": "code",
   "execution_count": 31,
   "id": "f21c48ed",
   "metadata": {},
   "outputs": [
    {
     "ename": "SyntaxError",
     "evalue": "unexpected EOF while parsing (<ipython-input-31-afdc82fdfc83>, line 8)",
     "output_type": "error",
     "traceback": [
      "\u001b[1;36m  File \u001b[1;32m\"<ipython-input-31-afdc82fdfc83>\"\u001b[1;36m, line \u001b[1;32m8\u001b[0m\n\u001b[1;33m    s[(3**(k-1))*(x+1)+i][(3**(k-1))*(y+1)+i]=' '\u001b[0m\n\u001b[1;37m                                                 ^\u001b[0m\n\u001b[1;31mSyntaxError\u001b[0m\u001b[1;31m:\u001b[0m unexpected EOF while parsing\n"
     ]
    }
   ],
   "source": [
    "def remove(s, k):\n",
    "    try:\n",
    "        x,y=-1,-1\n",
    "        while x and y:\n",
    "            x+=1\n",
    "            y+=1\n",
    "            for i in range(3**(k-1)):\n",
    "                s[(3**(k-1))*(x+1)+i][(3**(k-1))*(y+1)+i]=' '"
   ]
  }
 ],
 "metadata": {
  "kernelspec": {
   "display_name": "Python 3",
   "language": "python",
   "name": "python3"
  },
  "language_info": {
   "codemirror_mode": {
    "name": "ipython",
    "version": 3
   },
   "file_extension": ".py",
   "mimetype": "text/x-python",
   "name": "python",
   "nbconvert_exporter": "python",
   "pygments_lexer": "ipython3",
   "version": "3.8.8"
  }
 },
 "nbformat": 4,
 "nbformat_minor": 5
}
