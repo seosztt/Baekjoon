{
 "cells": [
  {
   "cell_type": "markdown",
   "id": "b1d22968",
   "metadata": {},
   "source": [
    "# 문제\n",
    "N-Queen 문제는 크기가 N × N인 체스판 위에 퀸 N개를 서로 공격할 수 없게 놓는 문제이다.\n",
    "\n",
    "N이 주어졌을 때, 퀸을 놓는 방법의 수를 구하는 프로그램을 작성하시오."
   ]
  },
  {
   "cell_type": "markdown",
   "id": "790ee4c6",
   "metadata": {},
   "source": [
    "# 입력\n",
    "첫째 줄에 N이 주어진다. (1 ≤ N < 15)"
   ]
  },
  {
   "cell_type": "markdown",
   "id": "e5d7f02a",
   "metadata": {},
   "source": [
    "# 출력\n",
    "첫째 줄에 퀸 N개를 서로 공격할 수 없게 놓는 경우의 수를 출력한다."
   ]
  },
  {
   "cell_type": "code",
   "execution_count": null,
   "id": "811630d1",
   "metadata": {},
   "outputs": [],
   "source": []
  }
 ],
 "metadata": {
  "kernelspec": {
   "display_name": "Python 3 (ipykernel)",
   "language": "python",
   "name": "python3"
  },
  "language_info": {
   "codemirror_mode": {
    "name": "ipython",
    "version": 3
   },
   "file_extension": ".py",
   "mimetype": "text/x-python",
   "name": "python",
   "nbconvert_exporter": "python",
   "pygments_lexer": "ipython3",
   "version": "3.8.8"
  },
  "toc": {
   "base_numbering": 1,
   "nav_menu": {},
   "number_sections": true,
   "sideBar": true,
   "skip_h1_title": false,
   "title_cell": "Table of Contents",
   "title_sidebar": "Contents",
   "toc_cell": false,
   "toc_position": {},
   "toc_section_display": true,
   "toc_window_display": false
  }
 },
 "nbformat": 4,
 "nbformat_minor": 5
}
