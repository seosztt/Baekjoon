{
 "cells": [
  {
   "cell_type": "markdown",
   "id": "b1d22968",
   "metadata": {},
   "source": [
    "# 문제\n",
    "N-Queen 문제는 크기가 N × N인 체스판 위에 퀸 N개를 서로 공격할 수 없게 놓는 문제이다.\n",
    "\n",
    "N이 주어졌을 때, 퀸을 놓는 방법의 수를 구하는 프로그램을 작성하시오."
   ]
  },
  {
   "cell_type": "markdown",
   "id": "790ee4c6",
   "metadata": {},
   "source": [
    "# 입력\n",
    "첫째 줄에 N이 주어진다. (1 ≤ N < 15)"
   ]
  },
  {
   "cell_type": "markdown",
   "id": "e5d7f02a",
   "metadata": {},
   "source": [
    "# 출력\n",
    "첫째 줄에 퀸 N개를 서로 공격할 수 없게 놓는 경우의 수를 출력한다."
   ]
  },
  {
   "cell_type": "markdown",
   "id": "dae9bc37",
   "metadata": {},
   "source": [
    "수 1\t2 3\t4 5\t 6 7  8  9   10  11   12    13    14\n",
    "\n",
    "답 1 0 0 2 10 4 40 92 352 724 2680 14200 73712 365596"
   ]
  },
  {
   "cell_type": "code",
   "execution_count": 120,
   "id": "84f4df3e",
   "metadata": {
    "scrolled": false
   },
   "outputs": [
    {
     "name": "stdout",
     "output_type": "stream",
     "text": [
      "4\n"
     ]
    },
    {
     "data": {
      "text/plain": [
       "1"
      ]
     },
     "execution_count": 120,
     "metadata": {},
     "output_type": "execute_result"
    }
   ],
   "source": [
    "n = int(input())\n",
    "g=[]\n",
    "for _ in range(n):\n",
    "    g.append([0]*n)\n",
    "\n",
    "# temp=[[]]*n\n",
    "# temp[0]=init_g\n",
    "cnt=0\n",
    "\n",
    "import copy\n",
    "\n",
    "def put(g, x, y):\n",
    "    global cnt\n",
    "    if x==n-1:\n",
    "        cnt+=g[x].count(0)\n",
    "        return\n",
    "    \n",
    "    # y열 1로 변경\n",
    "    for i in range(x+1,n):\n",
    "        g[i][y]=1\n",
    "    # 대각선 1로 변경\n",
    "    for j in range(x+1, min(int(abs(y-(n-1)/2)+(n-1)/2)+x+1, n)):\n",
    "        g[min(j,(n-y-1))][min(y+j,n-1)]=1\n",
    "        g[min(j,y)][max(y-j,0)]=1\n",
    "        \n",
    "    if g[x+1].count(0)==0:\n",
    "        return\n",
    "    else:\n",
    "        for k in range(n):\n",
    "            if g[x+1][k] == 0:\n",
    "                put(copy.deepcopy(g), x+1, k)    \n",
    "    return cnt\n",
    "put(g, 0 ,0)"
   ]
  },
  {
   "cell_type": "markdown",
   "id": "a09d4566",
   "metadata": {},
   "source": [
    "위 코드로 답도 틀렸거니와 15까지 계산을 못 함."
   ]
  }
 ],
 "metadata": {
  "kernelspec": {
   "display_name": "Python 3 (ipykernel)",
   "language": "python",
   "name": "python3"
  },
  "language_info": {
   "codemirror_mode": {
    "name": "ipython",
    "version": 3
   },
   "file_extension": ".py",
   "mimetype": "text/x-python",
   "name": "python",
   "nbconvert_exporter": "python",
   "pygments_lexer": "ipython3",
   "version": "3.8.8"
  },
  "toc": {
   "base_numbering": 1,
   "nav_menu": {},
   "number_sections": true,
   "sideBar": true,
   "skip_h1_title": false,
   "title_cell": "Table of Contents",
   "title_sidebar": "Contents",
   "toc_cell": false,
   "toc_position": {},
   "toc_section_display": true,
   "toc_window_display": false
  }
 },
 "nbformat": 4,
 "nbformat_minor": 5
}
