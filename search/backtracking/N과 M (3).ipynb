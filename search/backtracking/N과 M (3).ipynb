{
 "cells": [
  {
   "cell_type": "markdown",
   "id": "01ac8aa4",
   "metadata": {},
   "source": [
    "# 문제\n",
    "자연수 N과 M이 주어졌을 때, 아래 조건을 만족하는 길이가 M인 수열을 모두 구하는 프로그램을 작성하시오.\n",
    "\n",
    "- 1부터 N까지 자연수 중에서 M개를 고른 수열\n",
    "- 같은 수를 여러 번 골라도 된다."
   ]
  },
  {
   "cell_type": "markdown",
   "id": "a2321a53",
   "metadata": {},
   "source": [
    "# 입력\n",
    "첫째 줄에 자연수 N과 M이 주어진다. (1 ≤ M ≤ N ≤ 7)"
   ]
  },
  {
   "cell_type": "markdown",
   "id": "d82e0159",
   "metadata": {},
   "source": [
    "# 출력\n",
    "한 줄에 하나씩 문제의 조건을 만족하는 수열을 출력한다. 중복되는 수열을 여러 번 출력하면 안되며, 각 수열은 공백으로 구분해서 출력해야 한다.\n",
    "\n",
    "수열은 사전 순으로 증가하는 순서로 출력해야 한다."
   ]
  },
  {
   "cell_type": "code",
   "execution_count": 4,
   "id": "902222ed",
   "metadata": {},
   "outputs": [
    {
     "name": "stdout",
     "output_type": "stream",
     "text": [
      "3 3\n",
      "1 1 1 \n",
      "1 1 2 \n",
      "1 1 3 \n",
      "1 2 1 \n",
      "1 2 2 \n",
      "1 2 3 \n",
      "1 3 1 \n",
      "1 3 2 \n",
      "1 3 3 \n",
      "2 1 1 \n",
      "2 1 2 \n",
      "2 1 3 \n",
      "2 2 1 \n",
      "2 2 2 \n",
      "2 2 3 \n",
      "2 3 1 \n",
      "2 3 2 \n",
      "2 3 3 \n",
      "3 1 1 \n",
      "3 1 2 \n",
      "3 1 3 \n",
      "3 2 1 \n",
      "3 2 2 \n",
      "3 2 3 \n",
      "3 3 1 \n",
      "3 3 2 \n",
      "3 3 3 \n"
     ]
    }
   ],
   "source": [
    "from itertools import product\n",
    "n, m=map(int, input().split())\n",
    "L=list(range(1,n+1))\n",
    "out=list(product(L,repeat=m))\n",
    "\n",
    "for i in range(len(out)):\n",
    "    for j in range(m):\n",
    "        print(out[i][j], end=' ')\n",
    "    print()"
   ]
  }
 ],
 "metadata": {
  "kernelspec": {
   "display_name": "Python 3 (ipykernel)",
   "language": "python",
   "name": "python3"
  },
  "language_info": {
   "codemirror_mode": {
    "name": "ipython",
    "version": 3
   },
   "file_extension": ".py",
   "mimetype": "text/x-python",
   "name": "python",
   "nbconvert_exporter": "python",
   "pygments_lexer": "ipython3",
   "version": "3.8.8"
  },
  "toc": {
   "base_numbering": 1,
   "nav_menu": {},
   "number_sections": true,
   "sideBar": true,
   "skip_h1_title": false,
   "title_cell": "Table of Contents",
   "title_sidebar": "Contents",
   "toc_cell": false,
   "toc_position": {},
   "toc_section_display": true,
   "toc_window_display": false
  }
 },
 "nbformat": 4,
 "nbformat_minor": 5
}
