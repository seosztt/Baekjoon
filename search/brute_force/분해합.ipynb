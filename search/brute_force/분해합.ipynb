{
 "cells": [
  {
   "cell_type": "code",
   "execution_count": 23,
   "id": "f7aad706",
   "metadata": {},
   "outputs": [
    {
     "name": "stdout",
     "output_type": "stream",
     "text": [
      "1000000\n",
      "0\n"
     ]
    }
   ],
   "source": [
    "def find(a):\n",
    "    b=str(a)\n",
    "    for i in range(len(b)):\n",
    "        a=a+int(b[i])\n",
    "    return a\n",
    "\n",
    "n=int(input())\n",
    "i=1\n",
    "while find(i)!=n and i<=1000000:\n",
    "    find(i)\n",
    "    i+=1\n",
    "print(i if find(i)==n else 0)"
   ]
  },
  {
   "cell_type": "code",
   "execution_count": 13,
   "id": "cf2c7602",
   "metadata": {},
   "outputs": [
    {
     "data": {
      "text/plain": [
       "4"
      ]
     },
     "execution_count": 13,
     "metadata": {},
     "output_type": "execute_result"
    }
   ],
   "source": [
    "find(2)"
   ]
  }
 ],
 "metadata": {
  "kernelspec": {
   "display_name": "Python 3",
   "language": "python",
   "name": "python3"
  },
  "language_info": {
   "codemirror_mode": {
    "name": "ipython",
    "version": 3
   },
   "file_extension": ".py",
   "mimetype": "text/x-python",
   "name": "python",
   "nbconvert_exporter": "python",
   "pygments_lexer": "ipython3",
   "version": "3.8.8"
  }
 },
 "nbformat": 4,
 "nbformat_minor": 5
}
