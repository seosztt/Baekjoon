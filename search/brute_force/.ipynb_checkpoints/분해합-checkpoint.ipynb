{
 "cells": [
  {
   "cell_type": "markdown",
   "id": "676bb942",
   "metadata": {},
   "source": [
    "# 문제\n",
    "어떤 자연수 N이 있을 때, 그 자연수 N의 분해합은 N과 N을 이루는 각 자리수의 합을 의미한다. 어떤 자연수 M의 분해합이 N인 경우, M을 N의 생성자라 한다. 예를 들어, 245의 분해합은 256(=245+2+4+5)이 된다. 따라서 245는 256의 생성자가 된다. 물론, 어떤 자연수의 경우에는 생성자가 없을 수도 있다. 반대로, 생성자가 여러 개인 자연수도 있을 수 있다.\n",
    "\n",
    "자연수 N이 주어졌을 때, N의 가장 작은 생성자를 구해내는 프로그램을 작성하시오."
   ]
  },
  {
   "cell_type": "markdown",
   "id": "9f1c1188",
   "metadata": {},
   "source": [
    "# 입력\n",
    "첫째 줄에 자연수 N(1 ≤ N ≤ 1,000,000)이 주어진다."
   ]
  },
  {
   "cell_type": "markdown",
   "id": "c4421cd6",
   "metadata": {},
   "source": [
    "# 출력\n",
    "첫째 줄에 답을 출력한다. 생성자가 없는 경우에는 0을 출력한다."
   ]
  },
  {
   "cell_type": "code",
   "execution_count": 23,
   "id": "f7aad706",
   "metadata": {},
   "outputs": [
    {
     "name": "stdout",
     "output_type": "stream",
     "text": [
      "1000000\n",
      "0\n"
     ]
    }
   ],
   "source": [
    "def find(a):\n",
    "    b=str(a)\n",
    "    for i in range(len(b)):\n",
    "        a=a+int(b[i])\n",
    "    return a\n",
    "\n",
    "n=int(input())\n",
    "i=1\n",
    "while find(i)!=n and i<=1000000:\n",
    "    find(i)\n",
    "    i+=1\n",
    "print(i if find(i)==n else 0)"
   ]
  },
  {
   "cell_type": "code",
   "execution_count": 13,
   "id": "cf2c7602",
   "metadata": {},
   "outputs": [
    {
     "data": {
      "text/plain": [
       "4"
      ]
     },
     "execution_count": 13,
     "metadata": {},
     "output_type": "execute_result"
    }
   ],
   "source": [
    "find(2)"
   ]
  }
 ],
 "metadata": {
  "kernelspec": {
   "display_name": "Python 3 (ipykernel)",
   "language": "python",
   "name": "python3"
  },
  "language_info": {
   "codemirror_mode": {
    "name": "ipython",
    "version": 3
   },
   "file_extension": ".py",
   "mimetype": "text/x-python",
   "name": "python",
   "nbconvert_exporter": "python",
   "pygments_lexer": "ipython3",
   "version": "3.8.8"
  },
  "toc": {
   "base_numbering": 1,
   "nav_menu": {},
   "number_sections": true,
   "sideBar": true,
   "skip_h1_title": false,
   "title_cell": "Table of Contents",
   "title_sidebar": "Contents",
   "toc_cell": false,
   "toc_position": {},
   "toc_section_display": true,
   "toc_window_display": false
  }
 },
 "nbformat": 4,
 "nbformat_minor": 5
}
