{
 "cells": [
  {
   "cell_type": "code",
   "execution_count": null,
   "id": "dfe27395",
   "metadata": {},
   "outputs": [],
   "source": [
    "import math\n",
    "a=int(input())\n",
    "b=int(input())\n",
    "d=list(range(a,b+1))\n",
    "for i in range(b-a+1):\n",
    "    if d[i]==1:\n",
    "        d[i]=0\n",
    "    else:\n",
    "        for j in range(2, int(math.sqrt(d[i])+1)):\n",
    "            if d[i]%j==0:\n",
    "                d[i]=0\n",
    "for k in range(d.count(0)):\n",
    "    d.remove(0)\n",
    "if sum(d)==0:\n",
    "    print(-1)\n",
    "else:\n",
    "    print(sum(d))\n",
    "    print(min(d))"
   ]
  }
 ],
 "metadata": {
  "kernelspec": {
   "display_name": "Python 3",
   "language": "python",
   "name": "python3"
  },
  "language_info": {
   "codemirror_mode": {
    "name": "ipython",
    "version": 3
   },
   "file_extension": ".py",
   "mimetype": "text/x-python",
   "name": "python",
   "nbconvert_exporter": "python",
   "pygments_lexer": "ipython3",
   "version": "3.8.8"
  }
 },
 "nbformat": 4,
 "nbformat_minor": 5
}
