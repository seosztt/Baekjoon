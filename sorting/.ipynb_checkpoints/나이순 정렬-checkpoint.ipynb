{
 "cells": [
  {
   "cell_type": "markdown",
   "id": "5a3b2b69",
   "metadata": {},
   "source": [
    "# 문제\n",
    "온라인 저지에 가입한 사람들의 나이와 이름이 가입한 순서대로 주어진다. 이때, 회원들을 나이가 증가하는 순으로, 나이가 같으면 먼저 가입한 사람이 앞에 오는 순서로 정렬하는 프로그램을 작성하시오."
   ]
  },
  {
   "cell_type": "markdown",
   "id": "ad4f8003",
   "metadata": {},
   "source": [
    "# 입력\n",
    "첫째 줄에 온라인 저지 회원의 수 N이 주어진다. (1 ≤ N ≤ 100,000)\n",
    "\n",
    "둘째 줄부터 N개의 줄에는 각 회원의 나이와 이름이 공백으로 구분되어 주어진다. 나이는 1보다 크거나 같으며, 200보다 작거나 같은 정수이고, 이름은 알파벳 대소문자로 이루어져 있고, 길이가 100보다 작거나 같은 문자열이다. 입력은 가입한 순서로 주어진다."
   ]
  },
  {
   "cell_type": "markdown",
   "id": "0c3b91ea",
   "metadata": {},
   "source": [
    "# 출력\n",
    "첫째 줄부터 총 N개의 줄에 걸쳐 온라인 저지 회원을 나이 순, 나이가 같으면 가입한 순으로 한 줄에 한 명씩 나이와 이름을 공백으로 구분해 출력한다."
   ]
  },
  {
   "cell_type": "code",
   "execution_count": 10,
   "id": "9fa094f9",
   "metadata": {
    "scrolled": true
   },
   "outputs": [
    {
     "name": "stdout",
     "output_type": "stream",
     "text": [
      "5\n",
      "5 afhsk\n",
      "1 eotnea\n",
      "3 noejoten\n",
      "7 wrnaog\n",
      "3 awwrh\n",
      "1 eotnea\n",
      "3 noejoten\n",
      "3 awwrh\n",
      "5 afhsk\n",
      "7 wrnaog\n"
     ]
    }
   ],
   "source": [
    "t=int(input())\n",
    "L=[]\n",
    "age_list=[]\n",
    "for _ in range(t):\n",
    "    n=input().split()\n",
    "    L.append(n)\n",
    "    age_list.append(n[0])\n",
    "age_list=list(set(age_list))\n",
    "age_list.sort()\n",
    "for i in age_list:\n",
    "    for j in range(t):\n",
    "        if L[j][0]==i:\n",
    "            print(str(L[j][0]) + ' ' + str(L[j][1]))"
   ]
  },
  {
   "cell_type": "markdown",
   "id": "22eff7c0",
   "metadata": {},
   "source": [
    "틀렸습니다. 왜?"
   ]
  },
  {
   "cell_type": "code",
   "execution_count": 17,
   "id": "3777b7db",
   "metadata": {
    "scrolled": true
   },
   "outputs": [
    {
     "name": "stdout",
     "output_type": "stream",
     "text": [
      "3\n",
      "21 jun\n",
      "21 doh\n",
      "20 sun\n",
      "20 sun\n",
      "21 jun\n",
      "21 doh\n"
     ]
    }
   ],
   "source": [
    "t=int(input())\n",
    "L=[]\n",
    "for _ in range(t):\n",
    "    n=input().split()\n",
    "    L.append(n)\n",
    "L.sort(key=lambda x: x[0])\n",
    "for i in range(t):\n",
    "    print(L[i][0], L[i][1])"
   ]
  },
  {
   "cell_type": "markdown",
   "id": "d05a85d2",
   "metadata": {},
   "source": [
    "틀렸습니다. 왜?"
   ]
  }
 ],
 "metadata": {
  "kernelspec": {
   "display_name": "Python 3 (ipykernel)",
   "language": "python",
   "name": "python3"
  },
  "language_info": {
   "codemirror_mode": {
    "name": "ipython",
    "version": 3
   },
   "file_extension": ".py",
   "mimetype": "text/x-python",
   "name": "python",
   "nbconvert_exporter": "python",
   "pygments_lexer": "ipython3",
   "version": "3.8.8"
  },
  "toc": {
   "base_numbering": 1,
   "nav_menu": {},
   "number_sections": true,
   "sideBar": true,
   "skip_h1_title": false,
   "title_cell": "Table of Contents",
   "title_sidebar": "Contents",
   "toc_cell": false,
   "toc_position": {},
   "toc_section_display": true,
   "toc_window_display": false
  }
 },
 "nbformat": 4,
 "nbformat_minor": 5
}
