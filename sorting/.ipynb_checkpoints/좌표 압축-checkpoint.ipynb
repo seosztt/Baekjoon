{
 "cells": [
  {
   "cell_type": "markdown",
   "id": "d3a47b50",
   "metadata": {},
   "source": [
    "# 문제\n",
    "수직선 위에 N개의 좌표 X1, X2, ..., XN이 있다. 이 좌표에 좌표 압축을 적용하려고 한다.\n",
    "\n",
    "Xi를 좌표 압축한 결과 X'i의 값은 Xi > Xj를 만족하는 서로 다른 좌표의 개수와 같아야 한다.\n",
    "\n",
    "X1, X2, ..., XN에 좌표 압축을 적용한 결과 X'1, X'2, ..., X'N를 출력해보자."
   ]
  },
  {
   "cell_type": "markdown",
   "id": "33828860",
   "metadata": {},
   "source": [
    "# 입력\n",
    "첫째 줄에 N이 주어진다.\n",
    "\n",
    "둘째 줄에는 공백 한 칸으로 구분된 X1, X2, ..., XN이 주어진다."
   ]
  },
  {
   "cell_type": "markdown",
   "id": "8acc3fd1",
   "metadata": {},
   "source": [
    "# 출력\n",
    "첫째 줄에 X'1, X'2, ..., X'N을 공백 한 칸으로 구분해서 출력한다."
   ]
  },
  {
   "cell_type": "code",
   "execution_count": 9,
   "id": "2ade6bbd",
   "metadata": {},
   "outputs": [
    {
     "name": "stdout",
     "output_type": "stream",
     "text": [
      "6\n",
      "1000 999 1000 999 1000 999\n"
     ]
    }
   ],
   "source": [
    "t = int(input())\n",
    "L = list(map(int, input().split()))\n",
    "S=list(set(L))\n",
    "S.sort()\n",
    "D={}\n",
    "for i in range(len(S)):\n",
    "    D[S[i]]=i\n",
    "\n",
    "for j in range(t):\n",
    "    L[j]=D[L[j]]\n",
    "    \n",
    "for i in range(t):\n",
    "    print(L[i], end=' ')"
   ]
  }
 ],
 "metadata": {
  "kernelspec": {
   "display_name": "Python 3 (ipykernel)",
   "language": "python",
   "name": "python3"
  },
  "language_info": {
   "codemirror_mode": {
    "name": "ipython",
    "version": 3
   },
   "file_extension": ".py",
   "mimetype": "text/x-python",
   "name": "python",
   "nbconvert_exporter": "python",
   "pygments_lexer": "ipython3",
   "version": "3.8.8"
  },
  "toc": {
   "base_numbering": 1,
   "nav_menu": {},
   "number_sections": true,
   "sideBar": true,
   "skip_h1_title": false,
   "title_cell": "Table of Contents",
   "title_sidebar": "Contents",
   "toc_cell": false,
   "toc_position": {},
   "toc_section_display": true,
   "toc_window_display": false
  }
 },
 "nbformat": 4,
 "nbformat_minor": 5
}
