{
 "cells": [
  {
   "cell_type": "markdown",
   "id": "5d228c66",
   "metadata": {},
   "source": [
    "# 문제\n",
    "수를 처리하는 것은 통계학에서 상당히 중요한 일이다. 통계학에서 N개의 수를 대표하는 기본 통계값에는 다음과 같은 것들이 있다. 단, N은 홀수라고 가정하자.\n",
    "\n",
    "1. 산술평균 : N개의 수들의 합을 N으로 나눈 값\n",
    "2. 중앙값 : N개의 수들을 증가하는 순서로 나열했을 경우 그 중앙에 위치하는 값\n",
    "3. 최빈값 : N개의 수들 중 가장 많이 나타나는 값\n",
    "4. 범위 : N개의 수들 중 최댓값과 최솟값의 차이\n",
    "\n",
    "N개의 수가 주어졌을 때, 네 가지 기본 통계값을 구하는 프로그램을 작성하시오."
   ]
  },
  {
   "cell_type": "markdown",
   "id": "a99f1b15",
   "metadata": {},
   "source": [
    "# 입력\n",
    "첫째 줄에 수의 개수 N(1 ≤ N ≤ 500,000)이 주어진다. 단, N은 홀수이다. 그 다음 N개의 줄에는 정수들이 주어진다. 입력되는 정수의 절댓값은 4,000을 넘지 않는다."
   ]
  },
  {
   "cell_type": "markdown",
   "id": "8e7d60ee",
   "metadata": {},
   "source": [
    "# 출력\n",
    "첫째 줄에는 산술평균을 출력한다. 소수점 이하 첫째 자리에서 반올림한 값을 출력한다.\n",
    "\n",
    "둘째 줄에는 중앙값을 출력한다.\n",
    "\n",
    "셋째 줄에는 최빈값을 출력한다. 여러 개 있을 때에는 최빈값 중 두 번째로 작은 값을 출력한다.\n",
    "\n",
    "넷째 줄에는 범위를 출력한다."
   ]
  },
  {
   "cell_type": "code",
   "execution_count": 61,
   "id": "724b8f54",
   "metadata": {
    "scrolled": false
   },
   "outputs": [
    {
     "name": "stdout",
     "output_type": "stream",
     "text": [
      "2\n",
      "200\n",
      "200\n",
      "200\n",
      "200.0\n",
      "200\n",
      "0\n"
     ]
    }
   ],
   "source": [
    "n=int(input())\n",
    "L=[]\n",
    "for _ in range(n):\n",
    "    L.append(int(input()))\n",
    "L.sort()\n",
    "\n",
    "# 산술평균\n",
    "print(round(sum(L)/n))\n",
    "\n",
    "# 중앙값\n",
    "if n%2==0:\n",
    "    print((L[n//2-1]+L[n//2])/2)\n",
    "else:\n",
    "    print(int(L[n//2]))\n",
    "\n",
    "# 최빈값\n",
    "mode_dict={}\n",
    "L_unique=set(L)\n",
    "for i in L_unique:\n",
    "    mode_dict[i]=0\n",
    "for j in L:\n",
    "    mode_dict[j]+=1\n",
    "m=max(mode_dict.values())\n",
    "key_list=[]\n",
    "for key, value in mode_dict.items():\n",
    "    if value == m:\n",
    "        key_list.append(key)\n",
    "\n",
    "if len(key_list)==1:\n",
    "    print(key_list[0])\n",
    "else:\n",
    "    key_list.sort()\n",
    "    print(key_list[1])    \n",
    "    \n",
    "# 범위\n",
    "print(max(L)-min(L))"
   ]
  },
  {
   "cell_type": "markdown",
   "id": "fed8f528",
   "metadata": {},
   "source": [
    "Python3: 시간초과\n",
    "PyPy3: 맞았습니다!!"
   ]
  }
 ],
 "metadata": {
  "kernelspec": {
   "display_name": "Python 3 (ipykernel)",
   "language": "python",
   "name": "python3"
  },
  "language_info": {
   "codemirror_mode": {
    "name": "ipython",
    "version": 3
   },
   "file_extension": ".py",
   "mimetype": "text/x-python",
   "name": "python",
   "nbconvert_exporter": "python",
   "pygments_lexer": "ipython3",
   "version": "3.8.8"
  },
  "toc": {
   "base_numbering": 1,
   "nav_menu": {},
   "number_sections": true,
   "sideBar": true,
   "skip_h1_title": false,
   "title_cell": "Table of Contents",
   "title_sidebar": "Contents",
   "toc_cell": false,
   "toc_position": {},
   "toc_section_display": true,
   "toc_window_display": false
  }
 },
 "nbformat": 4,
 "nbformat_minor": 5
}
