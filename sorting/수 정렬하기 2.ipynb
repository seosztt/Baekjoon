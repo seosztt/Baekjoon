{
 "cells": [
  {
   "cell_type": "markdown",
   "id": "b1ecf85f",
   "metadata": {},
   "source": [
    "### pypy3로 제출해야 시간초과가 나지 않는다"
   ]
  },
  {
   "cell_type": "code",
   "execution_count": 10,
   "id": "3f94628f",
   "metadata": {
    "scrolled": true
   },
   "outputs": [
    {
     "name": "stdout",
     "output_type": "stream",
     "text": [
      "5\n",
      "5\n",
      "4\n",
      "3\n",
      "2\n",
      "1\n",
      "1\n",
      "2\n",
      "3\n",
      "4\n",
      "5\n"
     ]
    }
   ],
   "source": [
    "n=int(input())\n",
    "d=[]\n",
    "for i in range(n):\n",
    "    d.append(int(input()))\n",
    "d.sort()\n",
    "for i in range(n):\n",
    "    print(d[i])"
   ]
  }
 ],
 "metadata": {
  "kernelspec": {
   "display_name": "Python 3",
   "language": "python",
   "name": "python3"
  },
  "language_info": {
   "codemirror_mode": {
    "name": "ipython",
    "version": 3
   },
   "file_extension": ".py",
   "mimetype": "text/x-python",
   "name": "python",
   "nbconvert_exporter": "python",
   "pygments_lexer": "ipython3",
   "version": "3.8.8"
  }
 },
 "nbformat": 4,
 "nbformat_minor": 5
}
