{
 "cells": [
  {
   "cell_type": "code",
   "execution_count": null,
   "id": "062e5761",
   "metadata": {},
   "outputs": [],
   "source": [
    "t=int(input())\n",
    "for i in range(t):\n",
    "    x1,y1,r1,x2,y2,r2=map(int, input().split())\n",
    "    if x1==x2 and y1==y2:\n",
    "        if r1==r2:\n",
    "            print(-1)\n",
    "        else:\n",
    "            print(0)\n",
    "    else:\n",
    "        if (((x2-x1)**2+(y2-y1)**2)**(1/2))<abs(r2-r1):\n",
    "            print(0)\n",
    "        elif (((x2-x1)**2+(y2-y1)**2)**(1/2))==abs(r2-r1):\n",
    "            print(1)\n",
    "        elif (((x2-x1)**2+(y2-y1)**2)**(1/2))>abs(r2-r1):\n",
    "            if (((x2-x1)**2+(y2-y1)**2)**(1/2))>(r2+r1):\n",
    "                print(0)\n",
    "            elif (((x2-x1)**2+(y2-y1)**2)**(1/2))==(r2+r1):\n",
    "                print(1)\n",
    "            elif(((x2-x1)**2+(y2-y1)**2)**(1/2))<(r2+r1):\n",
    "                print(2)"
   ]
  }
 ],
 "metadata": {
  "kernelspec": {
   "display_name": "Python 3",
   "language": "python",
   "name": "python3"
  },
  "language_info": {
   "codemirror_mode": {
    "name": "ipython",
    "version": 3
   },
   "file_extension": ".py",
   "mimetype": "text/x-python",
   "name": "python",
   "nbconvert_exporter": "python",
   "pygments_lexer": "ipython3",
   "version": "3.8.8"
  }
 },
 "nbformat": 4,
 "nbformat_minor": 5
}
