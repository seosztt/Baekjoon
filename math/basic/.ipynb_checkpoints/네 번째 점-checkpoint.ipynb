{
 "cells": [
  {
   "cell_type": "markdown",
   "id": "ff49c5c1",
   "metadata": {},
   "source": [
    "# 문제\n",
    "세 점이 주어졌을 때, 축에 평행한 직사각형을 만들기 위해서 필요한 네 번째 점을 찾는 프로그램을 작성하시오."
   ]
  },
  {
   "cell_type": "markdown",
   "id": "463d5dda",
   "metadata": {},
   "source": [
    "# 입력\n",
    "세 점의 좌표가 한 줄에 하나씩 주어진다. 좌표는 1보다 크거나 같고, 1000보다 작거나 같은 정수이다."
   ]
  },
  {
   "cell_type": "markdown",
   "id": "f2ad9fd1",
   "metadata": {},
   "source": [
    "# 출력\n",
    "직사각형의 네 번째 점의 좌표를 출력한다."
   ]
  },
  {
   "cell_type": "code",
   "execution_count": 1,
   "id": "8db8f493",
   "metadata": {},
   "outputs": [
    {
     "name": "stdout",
     "output_type": "stream",
     "text": [
      "5 5\n",
      "5 7\n",
      "7 5\n",
      "7 7\n"
     ]
    }
   ],
   "source": [
    "x1, y1=map(int, input().split())\n",
    "x2, y2=map(int, input().split())\n",
    "x3, y3=map(int, input().split())\n",
    "if x1==x2:\n",
    "    x4=x3\n",
    "elif x1==x3:\n",
    "    x4=x2\n",
    "else:\n",
    "    x4=x1\n",
    "if y1==y2:\n",
    "    y4=y3\n",
    "elif y1==y3:\n",
    "    y4=y2\n",
    "else:\n",
    "    y4=y1\n",
    "print(x4,y4)"
   ]
  }
 ],
 "metadata": {
  "kernelspec": {
   "display_name": "Python 3 (ipykernel)",
   "language": "python",
   "name": "python3"
  },
  "language_info": {
   "codemirror_mode": {
    "name": "ipython",
    "version": 3
   },
   "file_extension": ".py",
   "mimetype": "text/x-python",
   "name": "python",
   "nbconvert_exporter": "python",
   "pygments_lexer": "ipython3",
   "version": "3.8.8"
  },
  "toc": {
   "base_numbering": 1,
   "nav_menu": {},
   "number_sections": true,
   "sideBar": true,
   "skip_h1_title": false,
   "title_cell": "Table of Contents",
   "title_sidebar": "Contents",
   "toc_cell": false,
   "toc_position": {},
   "toc_section_display": true,
   "toc_window_display": false
  }
 },
 "nbformat": 4,
 "nbformat_minor": 5
}
