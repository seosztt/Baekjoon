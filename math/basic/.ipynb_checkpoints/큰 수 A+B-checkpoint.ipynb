{
 "cells": [
  {
   "cell_type": "markdown",
   "id": "300c8a47",
   "metadata": {},
   "source": [
    "# 문제\n",
    "두 정수 A와 B를 입력받은 다음, A+B를 출력하는 프로그램을 작성하시오."
   ]
  },
  {
   "cell_type": "markdown",
   "id": "01f3b402",
   "metadata": {},
   "source": [
    "# 입력\n",
    "첫째 줄에 A와 B가 주어진다. (0 < A,B < 10^10000)"
   ]
  },
  {
   "cell_type": "markdown",
   "id": "61f8a35c",
   "metadata": {},
   "source": [
    "# 출력\n",
    "첫째 줄에 A+B를 출력한다."
   ]
  },
  {
   "cell_type": "code",
   "execution_count": 1,
   "id": "dde9f5f1",
   "metadata": {},
   "outputs": [
    {
     "name": "stdout",
     "output_type": "stream",
     "text": [
      "9223372036854775807 9223372036854775808\n",
      "18446744073709551615\n"
     ]
    }
   ],
   "source": [
    "a,b = map(int, input().split())\n",
    "print(a+b)"
   ]
  }
 ],
 "metadata": {
  "kernelspec": {
   "display_name": "Python 3 (ipykernel)",
   "language": "python",
   "name": "python3"
  },
  "language_info": {
   "codemirror_mode": {
    "name": "ipython",
    "version": 3
   },
   "file_extension": ".py",
   "mimetype": "text/x-python",
   "name": "python",
   "nbconvert_exporter": "python",
   "pygments_lexer": "ipython3",
   "version": "3.8.8"
  },
  "toc": {
   "base_numbering": 1,
   "nav_menu": {},
   "number_sections": true,
   "sideBar": true,
   "skip_h1_title": false,
   "title_cell": "Table of Contents",
   "title_sidebar": "Contents",
   "toc_cell": false,
   "toc_position": {},
   "toc_section_display": true,
   "toc_window_display": false
  }
 },
 "nbformat": 4,
 "nbformat_minor": 5
}
