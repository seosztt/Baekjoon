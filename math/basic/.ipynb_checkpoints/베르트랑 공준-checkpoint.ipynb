{
 "cells": [
  {
   "cell_type": "markdown",
   "id": "5f515628",
   "metadata": {},
   "source": [
    "# 문제\n",
    "베르트랑 공준은 임의의 자연수 n에 대하여, n보다 크고, 2n보다 작거나 같은 소수는 적어도 하나 존재한다는 내용을 담고 있다.\n",
    "\n",
    "이 명제는 조제프 베르트랑이 1845년에 추측했고, 파프누티 체비쇼프가 1850년에 증명했다.\n",
    "\n",
    "예를 들어, 10보다 크고, 20보다 작거나 같은 소수는 4개가 있다. (11, 13, 17, 19) 또, 14보다 크고, 28보다 작거나 같은 소수는 3개가 있다. (17,19, 23)\n",
    "\n",
    "자연수 n이 주어졌을 때, n보다 크고, 2n보다 작거나 같은 소수의 개수를 구하는 프로그램을 작성하시오."
   ]
  },
  {
   "cell_type": "markdown",
   "id": "085c700d",
   "metadata": {},
   "source": [
    "# 입력\n",
    "입력은 여러 개의 테스트 케이스로 이루어져 있다. 각 케이스는 n을 포함하는 한 줄로 이루어져 있다.\n",
    "\n",
    "입력의 마지막에는 0이 주어진다."
   ]
  },
  {
   "cell_type": "markdown",
   "id": "d7e11df6",
   "metadata": {},
   "source": [
    "# 출력\n",
    "각 테스트 케이스에 대해서, n보다 크고, 2n보다 작거나 같은 소수의 개수를 출력한다."
   ]
  },
  {
   "cell_type": "code",
   "execution_count": 1,
   "id": "b9b6de83",
   "metadata": {},
   "outputs": [
    {
     "name": "stdout",
     "output_type": "stream",
     "text": [
      "1\n",
      "1\n",
      "10\n",
      "4\n",
      "13\n",
      "3\n",
      "100\n",
      "21\n",
      "1000\n",
      "135\n",
      "10000\n",
      "1033\n",
      "100000\n",
      "8392\n",
      "0\n",
      "\n"
     ]
    }
   ],
   "source": [
    "n=[True for i in range(2*123456+1)]\n",
    "n[1]=False\n",
    "for i in range(2,int((2*123456+1)**(1/2)+1)):\n",
    "    if n[i]==True:\n",
    "        j=2\n",
    "        while j*i<=2*123456+1:\n",
    "            n[i*j]=False\n",
    "            j+=1\n",
    "a=-1\n",
    "while a!=0:\n",
    "    a=int(input())\n",
    "    if a==0:\n",
    "        print()\n",
    "    else:\n",
    "        count=0\n",
    "        for i in range(a+1, 2*a+1):\n",
    "            if n[i]:\n",
    "                count+=1\n",
    "        print(count)"
   ]
  }
 ],
 "metadata": {
  "kernelspec": {
   "display_name": "Python 3 (ipykernel)",
   "language": "python",
   "name": "python3"
  },
  "language_info": {
   "codemirror_mode": {
    "name": "ipython",
    "version": 3
   },
   "file_extension": ".py",
   "mimetype": "text/x-python",
   "name": "python",
   "nbconvert_exporter": "python",
   "pygments_lexer": "ipython3",
   "version": "3.8.8"
  },
  "toc": {
   "base_numbering": 1,
   "nav_menu": {},
   "number_sections": true,
   "sideBar": true,
   "skip_h1_title": false,
   "title_cell": "Table of Contents",
   "title_sidebar": "Contents",
   "toc_cell": false,
   "toc_position": {},
   "toc_section_display": true,
   "toc_window_display": false
  }
 },
 "nbformat": 4,
 "nbformat_minor": 5
}
