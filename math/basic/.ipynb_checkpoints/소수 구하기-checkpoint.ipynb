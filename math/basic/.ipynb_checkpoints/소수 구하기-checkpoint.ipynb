{
 "cells": [
  {
   "cell_type": "markdown",
   "id": "a3f57bff",
   "metadata": {},
   "source": [
    "# 문제\n",
    "M이상 N이하의 소수를 모두 출력하는 프로그램을 작성하시오."
   ]
  },
  {
   "cell_type": "markdown",
   "id": "b342a6fa",
   "metadata": {},
   "source": [
    "# 입력\n",
    "첫째 줄에 자연수 M과 N이 빈 칸을 사이에 두고 주어진다. (1 ≤ M ≤ N ≤ 1,000,000) M이상 N이하의 소수가 하나 이상 있는 입력만 주어진다."
   ]
  },
  {
   "cell_type": "markdown",
   "id": "55ddc7b2",
   "metadata": {},
   "source": [
    "# 출력\n",
    "한 줄에 하나씩, 증가하는 순서대로 소수를 출력한다."
   ]
  },
  {
   "cell_type": "code",
   "execution_count": 1,
   "id": "d81d90f1",
   "metadata": {},
   "outputs": [
    {
     "name": "stdout",
     "output_type": "stream",
     "text": [
      "3 16\n",
      "3\n",
      "5\n",
      "7\n",
      "11\n",
      "13\n"
     ]
    }
   ],
   "source": [
    "a, b=map(int, input().split())\n",
    "n=[True for i in range(b+1)]\n",
    "n[1]=False\n",
    "for i in range(2,int(b**(1/2)+1)):\n",
    "    if n[i]==True:\n",
    "        j=2\n",
    "        while j*i<=b:\n",
    "            n[i*j]=False\n",
    "            j+=1\n",
    "for i in range(a, b+1):\n",
    "    if n[i]:\n",
    "        print(i)"
   ]
  }
 ],
 "metadata": {
  "kernelspec": {
   "display_name": "Python 3 (ipykernel)",
   "language": "python",
   "name": "python3"
  },
  "language_info": {
   "codemirror_mode": {
    "name": "ipython",
    "version": 3
   },
   "file_extension": ".py",
   "mimetype": "text/x-python",
   "name": "python",
   "nbconvert_exporter": "python",
   "pygments_lexer": "ipython3",
   "version": "3.8.8"
  },
  "toc": {
   "base_numbering": 1,
   "nav_menu": {},
   "number_sections": true,
   "sideBar": true,
   "skip_h1_title": false,
   "title_cell": "Table of Contents",
   "title_sidebar": "Contents",
   "toc_cell": false,
   "toc_position": {},
   "toc_section_display": true,
   "toc_window_display": false
  }
 },
 "nbformat": 4,
 "nbformat_minor": 5
}
