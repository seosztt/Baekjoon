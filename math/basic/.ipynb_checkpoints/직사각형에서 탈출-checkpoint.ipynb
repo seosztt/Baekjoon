{
 "cells": [
  {
   "cell_type": "markdown",
   "id": "e19cf9db",
   "metadata": {},
   "source": [
    "# 문제\n",
    "한수는 지금 (x, y)에 있다. 직사각형은 각 변이 좌표축에 평행하고, 왼쪽 아래 꼭짓점은 (0, 0), 오른쪽 위 꼭짓점은 (w, h)에 있다. 직사각형의 경계선까지 가는 거리의 최솟값을 구하는 프로그램을 작성하시오."
   ]
  },
  {
   "cell_type": "markdown",
   "id": "e9359226",
   "metadata": {},
   "source": [
    "# 입력\n",
    "첫째 줄에 x, y, w, h가 주어진다."
   ]
  },
  {
   "cell_type": "markdown",
   "id": "cb668e67",
   "metadata": {},
   "source": [
    "# 출력\n",
    "첫째 줄에 문제의 정답을 출력한다."
   ]
  },
  {
   "cell_type": "markdown",
   "id": "b31ba678",
   "metadata": {},
   "source": [
    "# 제한\n",
    "- 1 ≤ w, h ≤ 1,000\n",
    "- 1 ≤ x ≤ w-1\n",
    "- 1 ≤ y ≤ h-1\n",
    "- x, y, w, h는 정수"
   ]
  },
  {
   "cell_type": "code",
   "execution_count": 1,
   "id": "edb091c2",
   "metadata": {},
   "outputs": [
    {
     "name": "stdout",
     "output_type": "stream",
     "text": [
      "6 2 10 3\n",
      "1\n"
     ]
    }
   ],
   "source": [
    "x, y, w, h=map(int, input().split())\n",
    "print(min([x,y,w-x,h-y]))"
   ]
  }
 ],
 "metadata": {
  "kernelspec": {
   "display_name": "Python 3 (ipykernel)",
   "language": "python",
   "name": "python3"
  },
  "language_info": {
   "codemirror_mode": {
    "name": "ipython",
    "version": 3
   },
   "file_extension": ".py",
   "mimetype": "text/x-python",
   "name": "python",
   "nbconvert_exporter": "python",
   "pygments_lexer": "ipython3",
   "version": "3.8.8"
  },
  "toc": {
   "base_numbering": 1,
   "nav_menu": {},
   "number_sections": true,
   "sideBar": true,
   "skip_h1_title": false,
   "title_cell": "Table of Contents",
   "title_sidebar": "Contents",
   "toc_cell": false,
   "toc_position": {},
   "toc_section_display": true,
   "toc_window_display": false
  }
 },
 "nbformat": 4,
 "nbformat_minor": 5
}
