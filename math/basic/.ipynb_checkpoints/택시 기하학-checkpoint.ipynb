{
 "cells": [
  {
   "cell_type": "markdown",
   "id": "8ecd7796",
   "metadata": {},
   "source": [
    "# 문제\n",
    "19세기 독일 수학자 헤르만 민코프스키는 비유클리드 기하학 중 택시 기하학을 고안했다.\n",
    "\n",
    "택시 기하학에서 두 점 T1(x1,y1), T2(x2,y2) 사이의 거리는 다음과 같이 구할 수 있다.\n",
    "\n",
    "D(T1,T2) = |x1-x2| + |y1-y2|\n",
    "\n",
    "두 점 사이의 거리를 제외한 나머지 정의는 유클리드 기하학에서의 정의와 같다.\n",
    "\n",
    "따라서 택시 기하학에서 원의 정의는 유클리드 기하학에서 원의 정의와 같다.\n",
    "\n",
    "원: 평면 상의 어떤 점에서 거리가 일정한 점들의 집합\n",
    "\n",
    "반지름 R이 주어졌을 때, 유클리드 기하학에서 원의 넓이와, 택시 기하학에서 원의 넓이를 구하는 프로그램을 작성하시오."
   ]
  },
  {
   "cell_type": "markdown",
   "id": "9607b778",
   "metadata": {},
   "source": [
    "# 입력\n",
    "첫째 줄에 반지름 R이 주어진다. R은 10,000보다 작거나 같은 자연수이다."
   ]
  },
  {
   "cell_type": "markdown",
   "id": "d7470dd5",
   "metadata": {},
   "source": [
    "# 출력\n",
    "첫째 줄에는 유클리드 기하학에서 반지름이 R인 원의 넓이를, 둘째 줄에는 택시 기하학에서 반지름이 R인 원의 넓이를 출력한다. 정답과의 오차는 0.0001까지 허용한다."
   ]
  },
  {
   "cell_type": "code",
   "execution_count": 1,
   "id": "0b656054",
   "metadata": {},
   "outputs": [
    {
     "name": "stdout",
     "output_type": "stream",
     "text": [
      "1\n",
      "3.14159265359\n",
      "2\n"
     ]
    }
   ],
   "source": [
    "r=int(input())\n",
    "pi=3.14159265359\n",
    "print(pi*r*r)\n",
    "print(2*r*r)"
   ]
  }
 ],
 "metadata": {
  "kernelspec": {
   "display_name": "Python 3 (ipykernel)",
   "language": "python",
   "name": "python3"
  },
  "language_info": {
   "codemirror_mode": {
    "name": "ipython",
    "version": 3
   },
   "file_extension": ".py",
   "mimetype": "text/x-python",
   "name": "python",
   "nbconvert_exporter": "python",
   "pygments_lexer": "ipython3",
   "version": "3.8.8"
  },
  "toc": {
   "base_numbering": 1,
   "nav_menu": {},
   "number_sections": true,
   "sideBar": true,
   "skip_h1_title": false,
   "title_cell": "Table of Contents",
   "title_sidebar": "Contents",
   "toc_cell": false,
   "toc_position": {},
   "toc_section_display": true,
   "toc_window_display": false
  }
 },
 "nbformat": 4,
 "nbformat_minor": 5
}
