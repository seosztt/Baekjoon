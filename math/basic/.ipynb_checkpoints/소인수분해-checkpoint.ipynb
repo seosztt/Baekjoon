{
 "cells": [
  {
   "cell_type": "markdown",
   "id": "1869501e",
   "metadata": {},
   "source": [
    "# 문제\n",
    "정수 N이 주어졌을 때, 소인수분해하는 프로그램을 작성하시오."
   ]
  },
  {
   "cell_type": "markdown",
   "id": "6233fe57",
   "metadata": {},
   "source": [
    "# 입력\n",
    "첫째 줄에 정수 N (1 ≤ N ≤ 10,000,000)이 주어진다."
   ]
  },
  {
   "cell_type": "markdown",
   "id": "b6ab7f7a",
   "metadata": {},
   "source": [
    "# 출력\n",
    "N의 소인수분해 결과를 한 줄에 하나씩 오름차순으로 출력한다. N이 1인 경우 아무것도 출력하지 않는다."
   ]
  },
  {
   "cell_type": "code",
   "execution_count": 1,
   "id": "84274f5a",
   "metadata": {},
   "outputs": [
    {
     "name": "stdout",
     "output_type": "stream",
     "text": [
      "72\n",
      "2\n",
      "2\n",
      "2\n",
      "3\n",
      "3\n"
     ]
    }
   ],
   "source": [
    "import math\n",
    "def prime(n):\n",
    "    for i in range(2, n+1):\n",
    "        if n%i==0:\n",
    "            return i\n",
    "\n",
    "a=int(input())\n",
    "if a==1:\n",
    "    print()\n",
    "d=[]\n",
    "while a!=1:\n",
    "    d.append(prime(a))\n",
    "    a=int(a/prime(a))\n",
    "for i in d:\n",
    "    print(i)"
   ]
  }
 ],
 "metadata": {
  "kernelspec": {
   "display_name": "Python 3 (ipykernel)",
   "language": "python",
   "name": "python3"
  },
  "language_info": {
   "codemirror_mode": {
    "name": "ipython",
    "version": 3
   },
   "file_extension": ".py",
   "mimetype": "text/x-python",
   "name": "python",
   "nbconvert_exporter": "python",
   "pygments_lexer": "ipython3",
   "version": "3.8.8"
  },
  "toc": {
   "base_numbering": 1,
   "nav_menu": {},
   "number_sections": true,
   "sideBar": true,
   "skip_h1_title": false,
   "title_cell": "Table of Contents",
   "title_sidebar": "Contents",
   "toc_cell": false,
   "toc_position": {},
   "toc_section_display": true,
   "toc_window_display": false
  }
 },
 "nbformat": 4,
 "nbformat_minor": 5
}
