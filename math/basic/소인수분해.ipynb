{
 "cells": [
  {
   "cell_type": "code",
   "execution_count": null,
   "id": "84274f5a",
   "metadata": {},
   "outputs": [],
   "source": [
    "import math\n",
    "def prime(n):\n",
    "    for i in range(2, n+1):\n",
    "        if n%i==0:\n",
    "            return i\n",
    "\n",
    "a=int(input())\n",
    "if a==1:\n",
    "    print()\n",
    "d=[]\n",
    "while a!=1:\n",
    "    d.append(prime(a))\n",
    "    a=int(a/prime(a))\n",
    "for i in d:\n",
    "    print(i)"
   ]
  }
 ],
 "metadata": {
  "kernelspec": {
   "display_name": "Python 3",
   "language": "python",
   "name": "python3"
  },
  "language_info": {
   "codemirror_mode": {
    "name": "ipython",
    "version": 3
   },
   "file_extension": ".py",
   "mimetype": "text/x-python",
   "name": "python",
   "nbconvert_exporter": "python",
   "pygments_lexer": "ipython3",
   "version": "3.8.8"
  }
 },
 "nbformat": 4,
 "nbformat_minor": 5
}
