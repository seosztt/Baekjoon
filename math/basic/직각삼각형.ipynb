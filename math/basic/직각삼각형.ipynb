{
 "cells": [
  {
   "cell_type": "code",
   "execution_count": null,
   "id": "f293c5d1",
   "metadata": {},
   "outputs": [],
   "source": [
    "a=-1\n",
    "while a!=0:\n",
    "    a,b,c=map(int, input().split())\n",
    "    d=sorted([a,b,c])\n",
    "    if a==0:\n",
    "        print()\n",
    "    else:\n",
    "        if d[0]**2+d[1]**2==d[2]**2:\n",
    "            print('right')\n",
    "        else:\n",
    "            print('wrong')"
   ]
  }
 ],
 "metadata": {
  "kernelspec": {
   "display_name": "Python 3",
   "language": "python",
   "name": "python3"
  },
  "language_info": {
   "codemirror_mode": {
    "name": "ipython",
    "version": 3
   },
   "file_extension": ".py",
   "mimetype": "text/x-python",
   "name": "python",
   "nbconvert_exporter": "python",
   "pygments_lexer": "ipython3",
   "version": "3.8.8"
  }
 },
 "nbformat": 4,
 "nbformat_minor": 5
}
