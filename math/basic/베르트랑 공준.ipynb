{
 "cells": [
  {
   "cell_type": "code",
   "execution_count": null,
   "id": "b9b6de83",
   "metadata": {},
   "outputs": [],
   "source": [
    "n=[True for i in range(2*123456+1)]\n",
    "n[1]=False\n",
    "for i in range(2,int((2*123456+1)**(1/2)+1)):\n",
    "    if n[i]==True:\n",
    "        j=2\n",
    "        while j*i<=2*123456+1:\n",
    "            n[i*j]=False\n",
    "            j+=1\n",
    "a=-1\n",
    "while a!=0:\n",
    "    a=int(input())\n",
    "    if a==0:\n",
    "        print()\n",
    "    else:\n",
    "        count=0\n",
    "        for i in range(a+1, 2*a+1):\n",
    "            if n[i]:\n",
    "                count+=1\n",
    "        print(count)"
   ]
  }
 ],
 "metadata": {
  "kernelspec": {
   "display_name": "Python 3",
   "language": "python",
   "name": "python3"
  },
  "language_info": {
   "codemirror_mode": {
    "name": "ipython",
    "version": 3
   },
   "file_extension": ".py",
   "mimetype": "text/x-python",
   "name": "python",
   "nbconvert_exporter": "python",
   "pygments_lexer": "ipython3",
   "version": "3.8.8"
  }
 },
 "nbformat": 4,
 "nbformat_minor": 5
}
