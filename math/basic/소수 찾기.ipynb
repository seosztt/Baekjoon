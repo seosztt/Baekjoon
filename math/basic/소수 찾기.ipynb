{
 "cells": [
  {
   "cell_type": "code",
   "execution_count": null,
   "id": "9d4535d0",
   "metadata": {},
   "outputs": [],
   "source": [
    "t=int(input())\n",
    "import math\n",
    "d=input().split()\n",
    "for i in range(t):\n",
    "    d[i]=int(d[i])\n",
    "for i in range(t):\n",
    "    if d[i]==1:\n",
    "        d[i]=0\n",
    "    else:\n",
    "        for j in range(2, int(math.sqrt(d[i])+1)):\n",
    "            if d[i]%j==0:\n",
    "                d[i]=0\n",
    "print(t-d.count(0))"
   ]
  }
 ],
 "metadata": {
  "kernelspec": {
   "display_name": "Python 3",
   "language": "python",
   "name": "python3"
  },
  "language_info": {
   "codemirror_mode": {
    "name": "ipython",
    "version": 3
   },
   "file_extension": ".py",
   "mimetype": "text/x-python",
   "name": "python",
   "nbconvert_exporter": "python",
   "pygments_lexer": "ipython3",
   "version": "3.8.8"
  }
 },
 "nbformat": 4,
 "nbformat_minor": 5
}
