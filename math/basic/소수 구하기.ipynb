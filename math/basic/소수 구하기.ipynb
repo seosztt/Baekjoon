{
 "cells": [
  {
   "cell_type": "code",
   "execution_count": null,
   "id": "d81d90f1",
   "metadata": {},
   "outputs": [],
   "source": [
    "a, b=map(int, input().split())\n",
    "n=[True for i in range(b+1)]\n",
    "n[1]=False\n",
    "for i in range(2,int(b**(1/2)+1)):\n",
    "    if n[i]==True:\n",
    "        j=2\n",
    "        while j*i<=b:\n",
    "            n[i*j]=False\n",
    "            j+=1\n",
    "for i in range(a, b+1):\n",
    "    if n[i]:\n",
    "        print(i)"
   ]
  }
 ],
 "metadata": {
  "kernelspec": {
   "display_name": "Python 3",
   "language": "python",
   "name": "python3"
  },
  "language_info": {
   "codemirror_mode": {
    "name": "ipython",
    "version": 3
   },
   "file_extension": ".py",
   "mimetype": "text/x-python",
   "name": "python",
   "nbconvert_exporter": "python",
   "pygments_lexer": "ipython3",
   "version": "3.8.8"
  }
 },
 "nbformat": 4,
 "nbformat_minor": 5
}
