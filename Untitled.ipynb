{
 "cells": [
  {
   "cell_type": "code",
   "execution_count": 5,
   "id": "7414b138",
   "metadata": {},
   "outputs": [
    {
     "name": "stdout",
     "output_type": "stream",
     "text": [
      "10\n",
      "3\n"
     ]
    }
   ],
   "source": [
    "N=int(input())\n",
    "count=0\n",
    "while N!=1:\n",
    "    if N%3==0:\n",
    "        N=N/3\n",
    "        count+=1\n",
    "    elif N==2:\n",
    "        N=N/2\n",
    "        count+=1\n",
    "    else:\n",
    "        N-=1\n",
    "        count+=1\n",
    "print(count)"
   ]
  },
  {
   "cell_type": "code",
   "execution_count": 3,
   "id": "de0fa3f3",
   "metadata": {},
   "outputs": [],
   "source": [
    "count=0\n",
    "N=10\n",
    "if N%3==0:\n",
    "    N=N/3\n",
    "    count+=1\n",
    "elif N==2:\n",
    "    N=N/2\n",
    "    count+=1\n",
    "else:\n",
    "    N-=1\n",
    "    count+=1"
   ]
  },
  {
   "cell_type": "code",
   "execution_count": 4,
   "id": "7da9b55c",
   "metadata": {},
   "outputs": [
    {
     "data": {
      "text/plain": [
       "5.0"
      ]
     },
     "execution_count": 4,
     "metadata": {},
     "output_type": "execute_result"
    }
   ],
   "source": [
    "N"
   ]
  },
  {
   "cell_type": "code",
   "execution_count": 20,
   "id": "6a77c280",
   "metadata": {},
   "outputs": [
    {
     "name": "stdout",
     "output_type": "stream",
     "text": [
      "10\n",
      "3\n"
     ]
    }
   ],
   "source": [
    "N=int(input())\n",
    "N1=N\n",
    "N2=N\n",
    "count1=0\n",
    "count2=0\n",
    "while N1!=1:\n",
    "    if N1%3==0:\n",
    "        N1=N1/3\n",
    "        count1+=1\n",
    "    elif N1%3==1:\n",
    "        N1-=1\n",
    "        count1+=1\n",
    "    elif N%2==0:\n",
    "        N1=N1/2\n",
    "        count1+=1\n",
    "    else:\n",
    "        N1-=1\n",
    "        count1+=1\n",
    "while N2!=1:\n",
    "    if N2%3==0:\n",
    "        N2=N2/3\n",
    "        count2+=1\n",
    "    elif N2%2==0:\n",
    "        N2=N2/2\n",
    "        count2+=1\n",
    "    else:\n",
    "        N2-=1\n",
    "        count2+=1\n",
    "print(count1 if count1<count2 else count2)"
   ]
  },
  {
   "cell_type": "code",
   "execution_count": 14,
   "id": "d6e131ef",
   "metadata": {},
   "outputs": [
    {
     "data": {
      "text/plain": [
       "[9, 27, 81, 243, 729, 2187, 6561, 19683, 59049, 177147, 531441]"
      ]
     },
     "execution_count": 14,
     "metadata": {},
     "output_type": "execute_result"
    }
   ],
   "source": [
    "l=[]\n",
    "for i in range(11):\n",
    "    l.append(3**(i+2))\n",
    "l"
   ]
  },
  {
   "cell_type": "code",
   "execution_count": 29,
   "id": "7f737b65",
   "metadata": {},
   "outputs": [
    {
     "name": "stdout",
     "output_type": "stream",
     "text": [
      "2100000000 9 10\n",
      "2100000001\n"
     ]
    }
   ],
   "source": [
    "a,b,c = map(int, input().split())\n",
    "n=0\n",
    "if b>=c:\n",
    "    print(-1)\n",
    "else:\n",
    "    print(int(a/(c-b)+1))"
   ]
  },
  {
   "cell_type": "code",
   "execution_count": 65,
   "id": "f252d65f",
   "metadata": {
    "scrolled": true
   },
   "outputs": [
    {
     "name": "stdout",
     "output_type": "stream",
     "text": [
      "14\n",
      "2/4\n"
     ]
    }
   ],
   "source": [
    "n=int(input())\n",
    "i=0\n",
    "while n>i*(i+1)/2:\n",
    "    i+=1\n",
    "k=n-int(i*(i-1)/2)\n",
    "if i%2==0:\n",
    "    print('{}/{}'.format(k,i-k+1))\n",
    "else:\n",
    "    print('{}/{}'.format(i-k+1,k))"
   ]
  },
  {
   "cell_type": "code",
   "execution_count": 74,
   "id": "98d6da82",
   "metadata": {
    "scrolled": true
   },
   "outputs": [
    {
     "name": "stdout",
     "output_type": "stream",
     "text": [
      "10 7 16\n",
      "3\n"
     ]
    }
   ],
   "source": [
    "a,b,c = map(int, input().split())\n",
    "print(int((c-a)//(a-b))+int(bool((c-a)%(a-b)))+1)"
   ]
  },
  {
   "cell_type": "code",
   "execution_count": 78,
   "id": "73c35a13",
   "metadata": {},
   "outputs": [
    {
     "name": "stdout",
     "output_type": "stream",
     "text": [
      "2\n",
      "6 12 10\n",
      "402\n",
      "30 50 72\n",
      "1203\n"
     ]
    }
   ],
   "source": [
    "n=int(input())\n",
    "for i in range(n):\n",
    "    a,b,c = map(int, input().split())\n",
    "    k=0\n",
    "    while c>a*k:\n",
    "        k+=1\n",
    "    print('{0}{1:02d}'.format(c-a*(k-1), k))"
   ]
  }
 ],
 "metadata": {
  "kernelspec": {
   "display_name": "Python 3",
   "language": "python",
   "name": "python3"
  },
  "language_info": {
   "codemirror_mode": {
    "name": "ipython",
    "version": 3
   },
   "file_extension": ".py",
   "mimetype": "text/x-python",
   "name": "python",
   "nbconvert_exporter": "python",
   "pygments_lexer": "ipython3",
   "version": "3.8.8"
  }
 },
 "nbformat": 4,
 "nbformat_minor": 5
}
