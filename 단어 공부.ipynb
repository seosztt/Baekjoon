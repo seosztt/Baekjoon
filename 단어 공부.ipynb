{
 "cells": [
  {
   "cell_type": "code",
   "execution_count": 12,
   "id": "f6d67fb6",
   "metadata": {
    "scrolled": true
   },
   "outputs": [
    {
     "name": "stdout",
     "output_type": "stream",
     "text": [
      "Mississipi\n",
      "?\n"
     ]
    }
   ],
   "source": [
    "a=input()\n",
    "b=a.lower()\n",
    "d=[]\n",
    "for i in range(97,123):\n",
    "    d.append(b.count(chr(i)))\n",
    "for j in range(d.count(0)):\n",
    "    d.remove(0)\n",
    "if d.count(max(d))==1:\n",
    "    for k in range(97,123):\n",
    "        if b.count(chr(k))==max(d):\n",
    "            print(chr(k).upper())\n",
    "else:\n",
    "    print('?')"
   ]
  }
 ],
 "metadata": {
  "kernelspec": {
   "display_name": "Python 3",
   "language": "python",
   "name": "python3"
  },
  "language_info": {
   "codemirror_mode": {
    "name": "ipython",
    "version": 3
   },
   "file_extension": ".py",
   "mimetype": "text/x-python",
   "name": "python",
   "nbconvert_exporter": "python",
   "pygments_lexer": "ipython3",
   "version": "3.8.8"
  }
 },
 "nbformat": 4,
 "nbformat_minor": 5
}
