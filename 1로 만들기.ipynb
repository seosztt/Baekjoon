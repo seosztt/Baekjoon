{
 "cells": [
  {
   "cell_type": "code",
   "execution_count": 14,
   "id": "cd1b9bac",
   "metadata": {},
   "outputs": [
    {
     "name": "stdout",
     "output_type": "stream",
     "text": [
      "10\n",
      "3\n"
     ]
    }
   ],
   "source": [
    "n=int(input())\n",
    "d=[0]*(n+1)\n",
    "for i in range(2,n+1):\n",
    "    d[i]=d[i-1]+1\n",
    "    if i%2==0 and d[i]>d[i//2]+1:\n",
    "        d[i]=d[i//2]+1\n",
    "    if i%3==0 and d[i]>d[i//3]+1:\n",
    "        d[i]=d[i//3]+1\n",
    "print(d[n])"
   ]
  }
 ],
 "metadata": {
  "kernelspec": {
   "display_name": "Python 3",
   "language": "python",
   "name": "python3"
  },
  "language_info": {
   "codemirror_mode": {
    "name": "ipython",
    "version": 3
   },
   "file_extension": ".py",
   "mimetype": "text/x-python",
   "name": "python",
   "nbconvert_exporter": "python",
   "pygments_lexer": "ipython3",
   "version": "3.8.8"
  }
 },
 "nbformat": 4,
 "nbformat_minor": 5
}
