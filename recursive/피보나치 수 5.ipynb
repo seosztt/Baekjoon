{
 "cells": [
  {
   "cell_type": "code",
   "execution_count": null,
   "id": "2ad60403",
   "metadata": {},
   "outputs": [],
   "source": [
    "n=int(input())\n",
    "def f(n):\n",
    "    if n==0:\n",
    "        return 0\n",
    "    if n==1:\n",
    "        return 1\n",
    "    return f(n-1)+f(n-2)\n",
    "print(f(n))"
   ]
  }
 ],
 "metadata": {
  "kernelspec": {
   "display_name": "Python 3",
   "language": "python",
   "name": "python3"
  },
  "language_info": {
   "codemirror_mode": {
    "name": "ipython",
    "version": 3
   },
   "file_extension": ".py",
   "mimetype": "text/x-python",
   "name": "python",
   "nbconvert_exporter": "python",
   "pygments_lexer": "ipython3",
   "version": "3.8.8"
  }
 },
 "nbformat": 4,
 "nbformat_minor": 5
}
