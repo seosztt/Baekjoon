{
 "cells": [
  {
   "cell_type": "code",
   "execution_count": 37,
   "id": "60beb469",
   "metadata": {
    "scrolled": true
   },
   "outputs": [
    {
     "name": "stdout",
     "output_type": "stream",
     "text": [
      "4\n",
      "15\n",
      "1 2\n",
      "1 3\n",
      "2 3\n",
      "1 2\n",
      "3 1\n",
      "3 2\n",
      "1 2\n",
      "1 3\n",
      "2 3\n",
      "2 1\n",
      "3 1\n",
      "2 3\n",
      "1 2\n",
      "1 3\n",
      "2 3\n"
     ]
    }
   ],
   "source": [
    "def h12(n):\n",
    "    if n==1:\n",
    "        print(1,2)\n",
    "    else:\n",
    "        h13(n-1)\n",
    "        print(1,2)\n",
    "        h32(n-1)\n",
    "        \n",
    "def h13(n):\n",
    "    if n==1:\n",
    "        print(1,3)\n",
    "    else:\n",
    "        h12(n-1)\n",
    "        print(1, 3)\n",
    "        h23(n-1)\n",
    "\n",
    "def h21(n):\n",
    "    if n==1:\n",
    "        print(2,1)\n",
    "    else:\n",
    "        h23(n-1)\n",
    "        print(2,1)\n",
    "        h31(n-1)\n",
    "\n",
    "def h23(n):\n",
    "    if n==1:\n",
    "        print(2,3)\n",
    "    else:\n",
    "        h21(n-1)\n",
    "        print(2,3)\n",
    "        h13(n-1)\n",
    "\n",
    "def h31(n):\n",
    "    if n==1:\n",
    "        print(3,1)\n",
    "    else:\n",
    "        h32(n-1)\n",
    "        print(3,1)\n",
    "        h21(n-1)\n",
    "\n",
    "def h32(n):\n",
    "    if n==1:\n",
    "        print(3,2)\n",
    "    else:\n",
    "        h31(n-1)\n",
    "        print(3,2)\n",
    "        h12(n-1)      \n",
    "\n",
    "def hc(n):\n",
    "    if n==1:\n",
    "        return 1\n",
    "    else:\n",
    "        return hc(n-1)*2+1\n",
    "        \n",
    "n=int(input())\n",
    "print(hc(n))\n",
    "h13(n)"
   ]
  },
  {
   "cell_type": "code",
   "execution_count": 25,
   "id": "887ab71c",
   "metadata": {
    "scrolled": true
   },
   "outputs": [
    {
     "data": {
      "text/plain": [
       "7"
      ]
     },
     "execution_count": 25,
     "metadata": {},
     "output_type": "execute_result"
    }
   ],
   "source": [
    "hc(3)"
   ]
  }
 ],
 "metadata": {
  "kernelspec": {
   "display_name": "Python 3",
   "language": "python",
   "name": "python3"
  },
  "language_info": {
   "codemirror_mode": {
    "name": "ipython",
    "version": 3
   },
   "file_extension": ".py",
   "mimetype": "text/x-python",
   "name": "python",
   "nbconvert_exporter": "python",
   "pygments_lexer": "ipython3",
   "version": "3.8.8"
  }
 },
 "nbformat": 4,
 "nbformat_minor": 5
}
