{
 "cells": [
  {
   "cell_type": "markdown",
   "id": "d0538822",
   "metadata": {},
   "source": [
    "# 문제\n",
    "어떤 N개의 수가 주어져 있다. 그런데 중간에 수의 변경이 빈번히 일어나고 그 중간에 어떤 부분의 합을 구하려 한다. 만약에 1,2,3,4,5 라는 수가 있고, 3번째 수를 6으로 바꾸고 2번째부터 5번째까지 합을 구하라고 한다면 17을 출력하면 되는 것이다. 그리고 그 상태에서 다섯 번째 수를 2로 바꾸고 3번째부터 5번째까지 합을 구하라고 한다면 12가 될 것이다."
   ]
  },
  {
   "cell_type": "markdown",
   "id": "db382b9f",
   "metadata": {},
   "source": [
    "# 입력\n",
    "첫째 줄에 수의 개수 N(1 ≤ N ≤ 1,000,000)과 M(1 ≤ M ≤ 10,000), K(1 ≤ K ≤ 10,000) 가 주어진다. M은 수의 변경이 일어나는 횟수이고, K는 구간의 합을 구하는 횟수이다. 그리고 둘째 줄부터 N+1번째 줄까지 N개의 수가 주어진다. 그리고 N+2번째 줄부터 N+M+K+1번째 줄까지 세 개의 정수 a, b, c가 주어지는데, a가 1인 경우 b(1 ≤ b ≤ N)번째 수를 c로 바꾸고 a가 2인 경우에는 b(1 ≤ b ≤ N)번째 수부터 c(b ≤ c ≤ N)번째 수까지의 합을 구하여 출력하면 된다.\n",
    "\n",
    "입력으로 주어지는 모든 수는 -263보다 크거나 같고, 263-1보다 작거나 같은 정수이다."
   ]
  },
  {
   "cell_type": "markdown",
   "id": "eedbe89f",
   "metadata": {},
   "source": [
    "# 출력\n",
    "첫째 줄부터 K줄에 걸쳐 구한 구간의 합을 출력한다. 단, 정답은 -263보다 크거나 같고, 263-1보다 작거나 같은 정수이다."
   ]
  },
  {
   "cell_type": "code",
   "execution_count": 1,
   "id": "2492017e",
   "metadata": {},
   "outputs": [
    {
     "name": "stdout",
     "output_type": "stream",
     "text": [
      "5 2 2\n",
      "1\n",
      "2\n",
      "3\n",
      "4\n",
      "5\n",
      "1 3 6\n",
      "2 2 5\n",
      "17\n",
      "1 5 2\n",
      "2 3 5\n",
      "12\n"
     ]
    }
   ],
   "source": [
    "import sys\n",
    "# input = sys.stdin.readline\n",
    "\n",
    "n, m, k=map(int, input().split())\n",
    "\n",
    "arr=[0]*(n+1)\n",
    "tree=[0]*(n+1)\n",
    "\n",
    "def update(i, c):\n",
    "    arr[i]=c\n",
    "    while i <= n:\n",
    "        tree[i] += c\n",
    "        i+= (i & -i)\n",
    "    return\n",
    "\n",
    "def summation(i):\n",
    "    result=0\n",
    "    while i > 0:\n",
    "        result+=tree[i]\n",
    "        i -= (i & -i)\n",
    "    return result \n",
    "\n",
    "def local_sum(b, c):\n",
    "    return summation(c) - summation(b-1)\n",
    "\n",
    "\n",
    "for i in range(1, n+1):\n",
    "    arr[i]=int(input())\n",
    "    update(i, arr[i])\n",
    "\n",
    "\n",
    "for j in range(m+k):\n",
    "    a, b, c = map(int, input().split())\n",
    "    if a==1:\n",
    "        update(b, c-arr[b])\n",
    "        arr[b]=c\n",
    "    else:\n",
    "        print(local_sum(b, c))"
   ]
  }
 ],
 "metadata": {
  "kernelspec": {
   "display_name": "Python 3 (ipykernel)",
   "language": "python",
   "name": "python3"
  },
  "language_info": {
   "codemirror_mode": {
    "name": "ipython",
    "version": 3
   },
   "file_extension": ".py",
   "mimetype": "text/x-python",
   "name": "python",
   "nbconvert_exporter": "python",
   "pygments_lexer": "ipython3",
   "version": "3.8.8"
  },
  "toc": {
   "base_numbering": 1,
   "nav_menu": {},
   "number_sections": true,
   "sideBar": true,
   "skip_h1_title": false,
   "title_cell": "Table of Contents",
   "title_sidebar": "Contents",
   "toc_cell": false,
   "toc_position": {},
   "toc_section_display": true,
   "toc_window_display": false
  }
 },
 "nbformat": 4,
 "nbformat_minor": 5
}
