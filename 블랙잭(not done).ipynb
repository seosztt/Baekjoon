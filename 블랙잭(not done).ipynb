{
 "cells": [
  {
   "cell_type": "code",
   "execution_count": null,
   "id": "f4c763a4",
   "metadata": {},
   "outputs": [],
   "source": [
    "n, m=map(int, input().split())\n",
    "d=input().split()\n",
    "for i in range(n):\n",
    "    d[i]=int(d[i])\n",
    "sorted(d, reverse=True)\n",
    "    c=[]\n",
    "    for i in range(n):\n",
    "    "
   ]
  }
 ],
 "metadata": {
  "kernelspec": {
   "display_name": "Python 3",
   "language": "python",
   "name": "python3"
  },
  "language_info": {
   "codemirror_mode": {
    "name": "ipython",
    "version": 3
   },
   "file_extension": ".py",
   "mimetype": "text/x-python",
   "name": "python",
   "nbconvert_exporter": "python",
   "pygments_lexer": "ipython3",
   "version": "3.8.8"
  }
 },
 "nbformat": 4,
 "nbformat_minor": 5
}
