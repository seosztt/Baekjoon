{
 "cells": [
  {
   "cell_type": "code",
   "execution_count": null,
   "id": "dd4a0abc",
   "metadata": {},
   "outputs": [],
   "source": [
    "n=[True for i in range(10001)]\n",
    "n[1]=False\n",
    "for i in range(2,int((10000)**(1/2)+1)):\n",
    "    if n[i]==True:\n",
    "        j=2\n",
    "        while j*i<=10000:\n",
    "            n[i*j]=False\n",
    "            j+=1\n",
    "t=int(input())\n",
    "for i in range(t):\n",
    "    a=int(input())\n",
    "    x=0\n",
    "    for j in range(2,int(a/2)+1):\n",
    "        if n[j] and n[a-j]:\n",
    "            x=j\n",
    "    print(x, a-x)"
   ]
  }
 ],
 "metadata": {
  "kernelspec": {
   "display_name": "Python 3",
   "language": "python",
   "name": "python3"
  },
  "language_info": {
   "codemirror_mode": {
    "name": "ipython",
    "version": 3
   },
   "file_extension": ".py",
   "mimetype": "text/x-python",
   "name": "python",
   "nbconvert_exporter": "python",
   "pygments_lexer": "ipython3",
   "version": "3.8.8"
  }
 },
 "nbformat": 4,
 "nbformat_minor": 5
}
