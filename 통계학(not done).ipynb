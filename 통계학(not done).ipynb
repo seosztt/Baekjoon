{
 "cells": [
  {
   "cell_type": "code",
   "execution_count": 9,
   "id": "dca6a664",
   "metadata": {
    "scrolled": true
   },
   "outputs": [
    {
     "name": "stdout",
     "output_type": "stream",
     "text": [
      "5\n",
      "-1\n",
      "-2\n",
      "-3\n",
      "-1\n",
      "-2\n",
      "-1\n",
      "-2\n",
      "-2\n",
      "2\n"
     ]
    }
   ],
   "source": [
    "n=int(input())\n",
    "d=[]\n",
    "for i in range(n):\n",
    "    d.append(int(input()))\n",
    "d.sort()\n",
    "c=1\n",
    "f=[0]*(n+1)\n",
    "for i in range(n-1):\n",
    "    if d[i]==d[i+1]:\n",
    "        c+=1\n",
    "    else:\n",
    "        f[i]=c\n",
    "        c=1\n",
    "\n",
    "print(int(sum(d)/n) if (sum(d)/n-int(sum(d)/n))<0.5 else int(sum(d)/n)+1)\n",
    "print(d[int(n/2)])\n",
    "if f.count(max(f))==1:\n",
    "    print(d[f.index(max(f))])\n",
    "else:\n",
    "    f.remove(max(f))\n",
    "    print(d[f.index(max(f))])\n",
    "print(max(d)-min(d))"
   ]
  },
  {
   "cell_type": "code",
   "execution_count": null,
   "id": "c9ee6870",
   "metadata": {},
   "outputs": [],
   "source": []
  }
 ],
 "metadata": {
  "kernelspec": {
   "display_name": "Python 3",
   "language": "python",
   "name": "python3"
  },
  "language_info": {
   "codemirror_mode": {
    "name": "ipython",
    "version": 3
   },
   "file_extension": ".py",
   "mimetype": "text/x-python",
   "name": "python",
   "nbconvert_exporter": "python",
   "pygments_lexer": "ipython3",
   "version": "3.8.8"
  }
 },
 "nbformat": 4,
 "nbformat_minor": 5
}
