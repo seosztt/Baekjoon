{
 "cells": [
  {
   "cell_type": "markdown",
   "id": "d9171697",
   "metadata": {},
   "source": [
    "## 두 정수 A와 B를 입력받은 다음, A+B를 출력하는 프로그램을 작성하시오.\n",
    "------------\n",
    "### 입력\n",
    ">입력은 여러 개의 테스트 케이스로 이루어져 있다.\n",
    "\n",
    ">각 테스트 케이스는 한 줄로 이루어져 있으며, 각 줄에 A와 B가 주어진다. (0 < A, B < 10)\n",
    "\n",
    "### 출력\n",
    ">각 테스트 케이스마다 A+B를 출력한다.\n",
    "\n",
    "### 예제 입력 1 \n",
    "1 1\\\n",
    "2 3\\\n",
    "3 4\\\n",
    "9 8\\\n",
    "5 2\n",
    "### 예제 출력 1 \n",
    "2\\\n",
    "5\\\n",
    "7\\\n",
    "17\\\n",
    "7"
   ]
  },
  {
   "cell_type": "code",
   "execution_count": null,
   "id": "50e4eff5",
   "metadata": {},
   "outputs": [],
   "source": [
    "try:\n",
    "    while True:\n",
    "        a,b=map(int, input().split())\n",
    "        print(a+b)\n",
    "except:\n",
    "    print()"
   ]
  },
  {
   "cell_type": "markdown",
   "id": "8d0ebca6",
   "metadata": {},
   "source": [
    "오류가 나도 계속 진행하고 싶을 때 사용하는 try, except"
   ]
  }
 ],
 "metadata": {
  "kernelspec": {
   "display_name": "Python 3",
   "language": "python",
   "name": "python3"
  },
  "language_info": {
   "codemirror_mode": {
    "name": "ipython",
    "version": 3
   },
   "file_extension": ".py",
   "mimetype": "text/x-python",
   "name": "python",
   "nbconvert_exporter": "python",
   "pygments_lexer": "ipython3",
   "version": "3.8.8"
  }
 },
 "nbformat": 4,
 "nbformat_minor": 5
}
