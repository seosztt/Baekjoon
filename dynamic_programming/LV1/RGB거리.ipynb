{
 "cells": [
  {
   "cell_type": "markdown",
   "id": "4780a3e4",
   "metadata": {},
   "source": [
    "# 문제\n",
    "RGB거리에는 집이 N개 있다. 거리는 선분으로 나타낼 수 있고, 1번 집부터 N번 집이 순서대로 있다.\n",
    "\n",
    "집은 빨강, 초록, 파랑 중 하나의 색으로 칠해야 한다. 각각의 집을 빨강, 초록, 파랑으로 칠하는 비용이 주어졌을 때, 아래 규칙을 만족하면서 모든 집을 칠하는 비용의 최솟값을 구해보자.\n",
    "\n",
    "- 1번 집의 색은 2번 집의 색과 같지 않아야 한다.\n",
    "- N번 집의 색은 N-1번 집의 색과 같지 않아야 한다.\n",
    "- i(2 ≤ i ≤ N-1)번 집의 색은 i-1번, i+1번 집의 색과 같지 않아야 한다."
   ]
  },
  {
   "cell_type": "markdown",
   "id": "be94be43",
   "metadata": {},
   "source": [
    "# 입력\n",
    "첫째 줄에 집의 수 N(2 ≤ N ≤ 1,000)이 주어진다. 둘째 줄부터 N개의 줄에는 각 집을 빨강, 초록, 파랑으로 칠하는 비용이 1번 집부터 한 줄에 하나씩 주어진다. 집을 칠하는 비용은 1,000보다 작거나 같은 자연수이다."
   ]
  },
  {
   "cell_type": "markdown",
   "id": "ef317375",
   "metadata": {},
   "source": [
    "# 출력\n",
    "첫째 줄에 모든 집을 칠하는 비용의 최솟값을 출력한다."
   ]
  },
  {
   "cell_type": "code",
   "execution_count": 70,
   "id": "dda2452c",
   "metadata": {
    "scrolled": true
   },
   "outputs": [
    {
     "name": "stdout",
     "output_type": "stream",
     "text": [
      "8\n",
      "71 39 44\n",
      "32 83 55\n",
      "51 37 63\n",
      "89 29 100\n",
      "83 58 11\n",
      "65 13 15\n",
      "47 25 29\n",
      "60 66 19\n",
      "253\n"
     ]
    }
   ],
   "source": [
    "t=int(input())\n",
    "L=[]\n",
    "for _ in range(t):\n",
    "    n=list(map(int, input().split()))\n",
    "    L.append(n)\n",
    "    \n",
    "for i in range(t-1):\n",
    "    L[i+1][0]=L[i+1][0]+min(L[i][1],L[i][2])\n",
    "    L[i+1][1]=L[i+1][1]+min(L[i][0],L[i][2])\n",
    "    L[i+1][2]=L[i+1][2]+min(L[i][0],L[i][1])\n",
    "\n",
    "print(min(L[-1]))"
   ]
  }
 ],
 "metadata": {
  "kernelspec": {
   "display_name": "Python 3 (ipykernel)",
   "language": "python",
   "name": "python3"
  },
  "language_info": {
   "codemirror_mode": {
    "name": "ipython",
    "version": 3
   },
   "file_extension": ".py",
   "mimetype": "text/x-python",
   "name": "python",
   "nbconvert_exporter": "python",
   "pygments_lexer": "ipython3",
   "version": "3.8.8"
  },
  "toc": {
   "base_numbering": 1,
   "nav_menu": {},
   "number_sections": true,
   "sideBar": true,
   "skip_h1_title": false,
   "title_cell": "Table of Contents",
   "title_sidebar": "Contents",
   "toc_cell": false,
   "toc_position": {},
   "toc_section_display": true,
   "toc_window_display": false
  }
 },
 "nbformat": 4,
 "nbformat_minor": 5
}
