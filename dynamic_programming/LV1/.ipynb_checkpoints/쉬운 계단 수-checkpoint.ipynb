{
 "cells": [
  {
   "cell_type": "markdown",
   "id": "8be0c03a",
   "metadata": {},
   "source": [
    "# 문제\n",
    "45656이란 수를 보자.\n",
    "\n",
    "이 수는 인접한 모든 자리의 차이가 1이다. 이런 수를 계단 수라고 한다.\n",
    "\n",
    "N이 주어질 때, 길이가 N인 계단 수가 총 몇 개 있는지 구해보자. 0으로 시작하는 수는 계단수가 아니다."
   ]
  },
  {
   "cell_type": "markdown",
   "id": "f7b4d519",
   "metadata": {},
   "source": [
    "# 입력\n",
    "첫째 줄에 N이 주어진다. N은 1보다 크거나 같고, 100보다 작거나 같은 자연수이다."
   ]
  },
  {
   "cell_type": "markdown",
   "id": "21d8db00",
   "metadata": {},
   "source": [
    "# 출력\n",
    "첫째 줄에 정답을 1,000,000,000으로 나눈 나머지를 출력한다."
   ]
  },
  {
   "cell_type": "code",
   "execution_count": 19,
   "id": "dc7d3b59",
   "metadata": {},
   "outputs": [
    {
     "name": "stdout",
     "output_type": "stream",
     "text": [
      "100\n",
      "18404112\n"
     ]
    }
   ],
   "source": [
    "n=int(input())\n",
    "\n",
    "L=[1]*10\n",
    "L[0]=0\n",
    "\n",
    "import copy\n",
    "for _ in range(n-1):\n",
    "    preL=copy.deepcopy(L)\n",
    "    L[0]=preL[1]\n",
    "    L[9]=preL[8]\n",
    "    for i in range(1, 9):\n",
    "        L[i]=preL[i-1]+preL[i+1]\n",
    "\n",
    "print(sum(L)%1000000000)"
   ]
  }
 ],
 "metadata": {
  "kernelspec": {
   "display_name": "Python 3 (ipykernel)",
   "language": "python",
   "name": "python3"
  },
  "language_info": {
   "codemirror_mode": {
    "name": "ipython",
    "version": 3
   },
   "file_extension": ".py",
   "mimetype": "text/x-python",
   "name": "python",
   "nbconvert_exporter": "python",
   "pygments_lexer": "ipython3",
   "version": "3.8.8"
  },
  "toc": {
   "base_numbering": 1,
   "nav_menu": {},
   "number_sections": true,
   "sideBar": true,
   "skip_h1_title": false,
   "title_cell": "Table of Contents",
   "title_sidebar": "Contents",
   "toc_cell": false,
   "toc_position": {},
   "toc_section_display": true,
   "toc_window_display": false
  }
 },
 "nbformat": 4,
 "nbformat_minor": 5
}
