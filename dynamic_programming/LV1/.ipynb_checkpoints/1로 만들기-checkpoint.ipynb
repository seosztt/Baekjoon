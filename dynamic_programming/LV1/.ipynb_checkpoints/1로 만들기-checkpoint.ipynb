{
 "cells": [
  {
   "cell_type": "markdown",
   "id": "b6cd1055",
   "metadata": {},
   "source": [
    "# 문제\n",
    "정수 X에 사용할 수 있는 연산은 다음과 같이 세 가지 이다.\n",
    "\n",
    "1. X가 3으로 나누어 떨어지면, 3으로 나눈다.\n",
    "2. X가 2로 나누어 떨어지면, 2로 나눈다.\n",
    "3. 1을 뺀다.\n",
    "\n",
    "정수 N이 주어졌을 때, 위와 같은 연산 세 개를 적절히 사용해서 1을 만들려고 한다. 연산을 사용하는 횟수의 최솟값을 출력하시오."
   ]
  },
  {
   "cell_type": "markdown",
   "id": "0976ffa6",
   "metadata": {},
   "source": [
    "# 입력\n",
    "첫째 줄에 1보다 크거나 같고, 106보다 작거나 같은 정수 N이 주어진다."
   ]
  },
  {
   "cell_type": "markdown",
   "id": "57b371f3",
   "metadata": {},
   "source": [
    "# 출력\n",
    "첫째 줄에 연산을 하는 횟수의 최솟값을 출력한다."
   ]
  },
  {
   "cell_type": "code",
   "execution_count": 14,
   "id": "cd1b9bac",
   "metadata": {},
   "outputs": [
    {
     "name": "stdout",
     "output_type": "stream",
     "text": [
      "10\n",
      "3\n"
     ]
    }
   ],
   "source": [
    "n=int(input())\n",
    "d=[0]*(n+1)\n",
    "for i in range(2,n+1):\n",
    "    d[i]=d[i-1]+1\n",
    "    if i%2==0 and d[i]>d[i//2]+1:\n",
    "        d[i]=d[i//2]+1\n",
    "    if i%3==0 and d[i]>d[i//3]+1:\n",
    "        d[i]=d[i//3]+1\n",
    "print(d[n])"
   ]
  },
  {
   "cell_type": "code",
   "execution_count": 8,
   "id": "3ef1f586",
   "metadata": {},
   "outputs": [
    {
     "name": "stdout",
     "output_type": "stream",
     "text": [
      "10\n",
      "3\n"
     ]
    }
   ],
   "source": [
    "# 동적계획법 활용\n",
    "x = int(input())\n",
    "\n",
    "d=[0]*(x+1)\n",
    "\n",
    "d[2]=1\n",
    "d[3]=1\n",
    "for i in range(3, x+1):\n",
    "    two=1000\n",
    "    three=1000\n",
    "    if i%3==0:\n",
    "        three=d[i//3]+1\n",
    "    if i%2==0:\n",
    "        two=d[i//2]+1\n",
    "    d[i]=min(d[i-1]+1, two, three)\n",
    "    \n",
    "print(d[x])"
   ]
  }
 ],
 "metadata": {
  "kernelspec": {
   "display_name": "Python 3 (ipykernel)",
   "language": "python",
   "name": "python3"
  },
  "language_info": {
   "codemirror_mode": {
    "name": "ipython",
    "version": 3
   },
   "file_extension": ".py",
   "mimetype": "text/x-python",
   "name": "python",
   "nbconvert_exporter": "python",
   "pygments_lexer": "ipython3",
   "version": "3.8.8"
  },
  "toc": {
   "base_numbering": 1,
   "nav_menu": {},
   "number_sections": true,
   "sideBar": true,
   "skip_h1_title": false,
   "title_cell": "Table of Contents",
   "title_sidebar": "Contents",
   "toc_cell": false,
   "toc_position": {},
   "toc_section_display": true,
   "toc_window_display": false
  }
 },
 "nbformat": 4,
 "nbformat_minor": 5
}
