{
 "cells": [
  {
   "cell_type": "markdown",
   "id": "c57ad74c",
   "metadata": {},
   "source": [
    "# 문제\n",
    "재귀 호출만 생각하면 신이 난다! 아닌가요?\n",
    "\n",
    "다음과 같은 재귀함수 w(a, b, c)가 있다.\n",
    "\n",
    "`if a <= 0 or b <= 0 or c <= 0, then w(a, b, c) returns:\n",
    "    1\n",
    "\n",
    "if a > 20 or b > 20 or c > 20, then w(a, b, c) returns:\n",
    "    w(20, 20, 20)\n",
    "\n",
    "if a < b and b < c, then w(a, b, c) returns:\n",
    "    w(a, b, c-1) + w(a, b-1, c-1) - w(a, b-1, c)\n",
    "\n",
    "otherwise it returns:\n",
    "    w(a-1, b, c) + w(a-1, b-1, c) + w(a-1, b, c-1) - w(a-1, b-1, c-1)`\n",
    "    \n",
    "위의 함수를 구현하는 것은 매우 쉽다. 하지만, 그대로 구현하면 값을 구하는데 매우 오랜 시간이 걸린다. (예를 들면, a=15, b=15, c=15)\n",
    "\n",
    "a, b, c가 주어졌을 때, w(a, b, c)를 출력하는 프로그램을 작성하시오."
   ]
  },
  {
   "cell_type": "markdown",
   "id": "f84a9ed2",
   "metadata": {},
   "source": [
    "# 입력\n",
    "입력은 세 정수 a, b, c로 이루어져 있으며, 한 줄에 하나씩 주어진다. 입력의 마지막은 -1 -1 -1로 나타내며, 세 정수가 모두 -1인 경우는 입력의 마지막을 제외하면 없다."
   ]
  },
  {
   "cell_type": "markdown",
   "id": "1fc6280c",
   "metadata": {},
   "source": [
    "# 출력\n",
    "입력으로 주어진 각각의 a, b, c에 대해서, w(a, b, c)를 출력한다."
   ]
  },
  {
   "cell_type": "markdown",
   "id": "1301861a",
   "metadata": {},
   "source": [
    "# 제한\n",
    "-50 ≤ a, b, c ≤ 50"
   ]
  },
  {
   "cell_type": "code",
   "execution_count": 296,
   "id": "a0cbfa54",
   "metadata": {},
   "outputs": [
    {
     "name": "stdout",
     "output_type": "stream",
     "text": [
      "20 7 6\n",
      "w(20, 7, 6) = -5916978\n",
      "10 4 6\n",
      "w(10, 4, 6) = 523\n",
      "-1 -1 -1\n"
     ]
    }
   ],
   "source": [
    "d=[[[0]*21 for i in range(21)] for i in range(21)]\n",
    "def w(a,b,c):\n",
    "    if a <= 0 or b <= 0 or c <= 0:\n",
    "        return 1\n",
    "    if a > 20 or b > 20 or c > 20:\n",
    "        return w(20, 20, 20)    \n",
    "    if d[a][b][c]:\n",
    "        return d[a][b][c]\n",
    "    if a<b<c :\n",
    "        d[a][b][c] = w(a,b,c-1) + w(a,b-1,c-1) - w(a,b-1,c)\n",
    "        return d[a][b][c]\n",
    "    d[a][b][c] = w(a-1,b,c) + w(a-1,b-1,c) + w(a-1,b,c-1) - w(a-1,b-1,c-1)\n",
    "    return d[a][b][c]\n",
    "\n",
    "while True :\n",
    "    a, b, c = map(int, input().split())\n",
    "    if a== -1 and b==-1 and c==-1 :\n",
    "        break \n",
    "    print(\"w(%d, %d, %d) = %d\"%(a, b, c, w(a, b, c)))\n",
    "\n",
    "# 메모이제이션을 활용해야 한다"
   ]
  },
  {
   "cell_type": "code",
   "execution_count": 295,
   "id": "3e49ef76",
   "metadata": {
    "scrolled": false
   },
   "outputs": [
    {
     "data": {
      "text/plain": [
       "-5916978"
      ]
     },
     "execution_count": 295,
     "metadata": {},
     "output_type": "execute_result"
    }
   ],
   "source": [
    "w(20,7,6)"
   ]
  },
  {
   "cell_type": "code",
   "execution_count": 293,
   "id": "ed91c4fa",
   "metadata": {},
   "outputs": [
    {
     "data": {
      "text/plain": [
       "[[[0, 0, 0], [0, 0, 0], [0, 0, 0]],\n",
       " [[0, 0, 0], [0, 0, 0], [0, 0, 0]],\n",
       " [[0, 0, 0], [0, 0, 0], [0, 0, 0]]]"
      ]
     },
     "execution_count": 293,
     "metadata": {},
     "output_type": "execute_result"
    }
   ],
   "source": [
    "s=[[[0]*3]*3]*3\n",
    "p=[[[0]*3 for i in range(3)] for i in range(3)]\n",
    "p"
   ]
  }
 ],
 "metadata": {
  "kernelspec": {
   "display_name": "Python 3 (ipykernel)",
   "language": "python",
   "name": "python3"
  },
  "language_info": {
   "codemirror_mode": {
    "name": "ipython",
    "version": 3
   },
   "file_extension": ".py",
   "mimetype": "text/x-python",
   "name": "python",
   "nbconvert_exporter": "python",
   "pygments_lexer": "ipython3",
   "version": "3.8.8"
  },
  "toc": {
   "base_numbering": 1,
   "nav_menu": {},
   "number_sections": true,
   "sideBar": true,
   "skip_h1_title": false,
   "title_cell": "Table of Contents",
   "title_sidebar": "Contents",
   "toc_cell": false,
   "toc_position": {},
   "toc_section_display": true,
   "toc_window_display": false
  }
 },
 "nbformat": 4,
 "nbformat_minor": 5
}
