{
 "cells": [
  {
   "cell_type": "code",
   "execution_count": 296,
   "id": "a0cbfa54",
   "metadata": {},
   "outputs": [
    {
     "name": "stdout",
     "output_type": "stream",
     "text": [
      "20 7 6\n",
      "w(20, 7, 6) = -5916978\n",
      "10 4 6\n",
      "w(10, 4, 6) = 523\n",
      "-1 -1 -1\n"
     ]
    }
   ],
   "source": [
    "d=[[[0]*21 for i in range(21)] for i in range(21)]\n",
    "def w(a,b,c):\n",
    "    if a <= 0 or b <= 0 or c <= 0:\n",
    "        return 1\n",
    "    if a > 20 or b > 20 or c > 20:\n",
    "        return w(20, 20, 20)    \n",
    "    if d[a][b][c]:\n",
    "        return d[a][b][c]\n",
    "    if a<b<c :\n",
    "        d[a][b][c] = w(a,b,c-1) + w(a,b-1,c-1) - w(a,b-1,c)\n",
    "        return d[a][b][c]\n",
    "    d[a][b][c] = w(a-1,b,c) + w(a-1,b-1,c) + w(a-1,b,c-1) - w(a-1,b-1,c-1)\n",
    "    return d[a][b][c]\n",
    "\n",
    "while True :\n",
    "    a, b, c = map(int, input().split())\n",
    "    if a== -1 and b==-1 and c==-1 :\n",
    "        break \n",
    "    print(\"w(%d, %d, %d) = %d\"%(a, b, c, w(a, b, c)))\n",
    "\n",
    "# 메모이제이션을 활용해야 한다"
   ]
  },
  {
   "cell_type": "code",
   "execution_count": 295,
   "id": "3e49ef76",
   "metadata": {
    "scrolled": false
   },
   "outputs": [
    {
     "data": {
      "text/plain": [
       "-5916978"
      ]
     },
     "execution_count": 295,
     "metadata": {},
     "output_type": "execute_result"
    }
   ],
   "source": [
    "w(20,7,6)"
   ]
  },
  {
   "cell_type": "code",
   "execution_count": 293,
   "id": "ed91c4fa",
   "metadata": {},
   "outputs": [
    {
     "data": {
      "text/plain": [
       "[[[0, 0, 0], [0, 0, 0], [0, 0, 0]],\n",
       " [[0, 0, 0], [0, 0, 0], [0, 0, 0]],\n",
       " [[0, 0, 0], [0, 0, 0], [0, 0, 0]]]"
      ]
     },
     "execution_count": 293,
     "metadata": {},
     "output_type": "execute_result"
    }
   ],
   "source": [
    "s=[[[0]*3]*3]*3\n",
    "p=[[[0]*3 for i in range(3)] for i in range(3)]\n",
    "p"
   ]
  }
 ],
 "metadata": {
  "kernelspec": {
   "display_name": "Python 3",
   "language": "python",
   "name": "python3"
  },
  "language_info": {
   "codemirror_mode": {
    "name": "ipython",
    "version": 3
   },
   "file_extension": ".py",
   "mimetype": "text/x-python",
   "name": "python",
   "nbconvert_exporter": "python",
   "pygments_lexer": "ipython3",
   "version": "3.8.8"
  }
 },
 "nbformat": 4,
 "nbformat_minor": 5
}
