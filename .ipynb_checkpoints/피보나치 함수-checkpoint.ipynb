{
 "cells": [
  {
   "cell_type": "code",
   "execution_count": 7,
   "id": "48e5f391",
   "metadata": {},
   "outputs": [
    {
     "name": "stdout",
     "output_type": "stream",
     "text": [
      "3\n",
      "0\n",
      "1 0\n",
      "1\n",
      "0 1\n",
      "3\n",
      "1 2\n"
     ]
    }
   ],
   "source": [
    "def f(n):\n",
    "    if n==0:\n",
    "        return 0\n",
    "    if n==1:\n",
    "        return 1\n",
    "    return f(n-1)+f(n-2)\n",
    "\n",
    "n=int(input())\n",
    "for i in range(n):\n",
    "    a=int(input())\n",
    "    print(f(a-1) if a>=1 else 1, end=' ')\n",
    "    print(f(a))\n",
    "    \n",
    "# 시간 제한(0.25초) 초과"
   ]
  },
  {
   "cell_type": "code",
   "execution_count": 15,
   "id": "c9971120",
   "metadata": {},
   "outputs": [
    {
     "name": "stdout",
     "output_type": "stream",
     "text": [
      "1\n",
      "1\n",
      "0 1\n"
     ]
    }
   ],
   "source": [
    "f=[0,1]\n",
    "for i in range(39):\n",
    "    f.append(f[i]+f[i+1])\n",
    "    \n",
    "n=int(input())\n",
    "for i in range(n):\n",
    "    a=int(input())\n",
    "    print(f[a-1] if a>=1 else 1, end=' ')\n",
    "    print(f[a])\n",
    "    \n",
    "# 맞았습니다!!"
   ]
  }
 ],
 "metadata": {
  "kernelspec": {
   "display_name": "Python 3",
   "language": "python",
   "name": "python3"
  },
  "language_info": {
   "codemirror_mode": {
    "name": "ipython",
    "version": 3
   },
   "file_extension": ".py",
   "mimetype": "text/x-python",
   "name": "python",
   "nbconvert_exporter": "python",
   "pygments_lexer": "ipython3",
   "version": "3.8.8"
  }
 },
 "nbformat": 4,
 "nbformat_minor": 5
}
