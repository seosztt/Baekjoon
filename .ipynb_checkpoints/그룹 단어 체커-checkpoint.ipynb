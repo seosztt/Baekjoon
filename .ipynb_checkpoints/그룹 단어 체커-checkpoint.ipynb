{
 "cells": [
  {
   "cell_type": "code",
   "execution_count": 16,
   "id": "4bbc3bff",
   "metadata": {},
   "outputs": [
    {
     "name": "stdout",
     "output_type": "stream",
     "text": [
      "1\n",
      "new\n",
      "1\n"
     ]
    }
   ],
   "source": [
    "t=int(input())\n",
    "d=[True]*t\n",
    "for i in range(t):\n",
    "    a=input()\n",
    "    for j in a:\n",
    "        x=a.find(j)\n",
    "        y=len(a)-a[::-1].find(j)\n",
    "        if a.count(j)!=y-x:\n",
    "            d[i]=False            \n",
    "print(d.count(True))"
   ]
  }
 ],
 "metadata": {
  "kernelspec": {
   "display_name": "Python 3",
   "language": "python",
   "name": "python3"
  },
  "language_info": {
   "codemirror_mode": {
    "name": "ipython",
    "version": 3
   },
   "file_extension": ".py",
   "mimetype": "text/x-python",
   "name": "python",
   "nbconvert_exporter": "python",
   "pygments_lexer": "ipython3",
   "version": "3.8.8"
  }
 },
 "nbformat": 4,
 "nbformat_minor": 5
}
