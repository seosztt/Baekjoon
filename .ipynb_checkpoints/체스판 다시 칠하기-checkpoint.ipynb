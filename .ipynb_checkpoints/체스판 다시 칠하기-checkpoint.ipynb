{
 "cells": [
  {
   "cell_type": "code",
   "execution_count": 21,
   "id": "90d93966",
   "metadata": {
    "scrolled": true
   },
   "outputs": [
    {
     "name": "stdout",
     "output_type": "stream",
     "text": [
      "10 13\n",
      "BBBBBBBBWBWBW\n",
      "BBBBBBBBBWBWB\n",
      "BBBBBBBBWBWBW\n",
      "BBBBBBBBBWBWB\n",
      "BBBBBBBBWBWBW\n",
      "BBBBBBBBBWBWB\n",
      "BBBBBBBBWBWBW\n",
      "BBBBBBBBBWBWB\n",
      "WWWWWWWWWWBWB\n",
      "WWWWWWWWWWBWB\n",
      "12\n"
     ]
    }
   ],
   "source": [
    "WB=[[],[],[],[],[],[],[],[]]\n",
    "for i in range(8):\n",
    "    for j in range(8):\n",
    "        if i%2==0:\n",
    "            if j%2==0:\n",
    "                WB[i].append('W')\n",
    "            else:\n",
    "                WB[i].append('B')\n",
    "        if i%2==1:\n",
    "            if j%2==0:\n",
    "                WB[i].append('B')\n",
    "            else:\n",
    "                WB[i].append('W')\n",
    "BW=[[],[],[],[],[],[],[],[]]\n",
    "for i in range(8):\n",
    "    for j in range(8):\n",
    "        if i%2==0:\n",
    "            if j%2==0:\n",
    "                BW[i].append('B')\n",
    "            else:\n",
    "                BW[i].append('W')\n",
    "        if i%2==1:\n",
    "            if j%2==0:\n",
    "                BW[i].append('W')\n",
    "            else:\n",
    "                BW[i].append('B')\n",
    "\n",
    "m, n=map(int, input().split())\n",
    "d=[]\n",
    "c=[]\n",
    "for i in range(m):\n",
    "    d.append(input().split())\n",
    "for x in range(m-7):\n",
    "    for y in range(n-7):\n",
    "        count=0\n",
    "        for i in range(8):\n",
    "            for j in range(8):\n",
    "                if d[i+x][0][j+y]!=WB[i][j]:\n",
    "                    count+=1\n",
    "        c.append(count)\n",
    "for x in range(m-7):\n",
    "    for y in range(n-7):\n",
    "        count=0\n",
    "        for i in range(8):\n",
    "            for j in range(8):\n",
    "                if d[i+x][0][j+y]!=BW[i][j]:\n",
    "                    count+=1\n",
    "        c.append(count)\n",
    "print(min(c))"
   ]
  }
 ],
 "metadata": {
  "kernelspec": {
   "display_name": "Python 3",
   "language": "python",
   "name": "python3"
  },
  "language_info": {
   "codemirror_mode": {
    "name": "ipython",
    "version": 3
   },
   "file_extension": ".py",
   "mimetype": "text/x-python",
   "name": "python",
   "nbconvert_exporter": "python",
   "pygments_lexer": "ipython3",
   "version": "3.8.8"
  }
 },
 "nbformat": 4,
 "nbformat_minor": 5
}
