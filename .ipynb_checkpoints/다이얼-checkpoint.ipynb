{
 "cells": [
  {
   "cell_type": "code",
   "execution_count": 23,
   "id": "2bb16256",
   "metadata": {
    "scrolled": true
   },
   "outputs": [
    {
     "name": "stdout",
     "output_type": "stream",
     "text": [
      "UNUCIC\n",
      "36\n"
     ]
    }
   ],
   "source": [
    "d=list('ABCDEFGHIJKLMNOPQRTUVWXY')\n",
    "n=list('23456789')\n",
    "dic={}\n",
    "dic.update(list(zip(d[::3],n)))\n",
    "dic.update(list(zip(d[1::3],n)))\n",
    "dic.update(list(zip(d[2::3],n)))\n",
    "dic.update([('S','7'),('Z','9')])\n",
    "a=input()\n",
    "time=0\n",
    "for i in range(len(a)):\n",
    "    time+=(int(dic[a[i]])+1)\n",
    "print(time)"
   ]
  }
 ],
 "metadata": {
  "kernelspec": {
   "display_name": "Python 3",
   "language": "python",
   "name": "python3"
  },
  "language_info": {
   "codemirror_mode": {
    "name": "ipython",
    "version": 3
   },
   "file_extension": ".py",
   "mimetype": "text/x-python",
   "name": "python",
   "nbconvert_exporter": "python",
   "pygments_lexer": "ipython3",
   "version": "3.8.8"
  }
 },
 "nbformat": 4,
 "nbformat_minor": 5
}
