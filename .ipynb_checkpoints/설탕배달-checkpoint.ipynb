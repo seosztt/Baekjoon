{
 "cells": [
  {
   "cell_type": "code",
   "execution_count": null,
   "id": "5c937cf7",
   "metadata": {},
   "outputs": [],
   "source": [
    "N=int(input())\n",
    "if (N==1)or(N==2)or(N==4)or(N==7):\n",
    "    print(-1)\n",
    "else:\n",
    "    if N%5==0:\n",
    "        print(N//5)\n",
    "    elif N%5==1 or N%5==3:\n",
    "        print(N//5 + 1)\n",
    "    elif N%5==2 or N%5==4:\n",
    "        print(N//5 + 2)"
   ]
  }
 ],
 "metadata": {
  "kernelspec": {
   "display_name": "Python 3",
   "language": "python",
   "name": "python3"
  },
  "language_info": {
   "codemirror_mode": {
    "name": "ipython",
    "version": 3
   },
   "file_extension": ".py",
   "mimetype": "text/x-python",
   "name": "python",
   "nbconvert_exporter": "python",
   "pygments_lexer": "ipython3",
   "version": "3.8.8"
  }
 },
 "nbformat": 4,
 "nbformat_minor": 5
}
