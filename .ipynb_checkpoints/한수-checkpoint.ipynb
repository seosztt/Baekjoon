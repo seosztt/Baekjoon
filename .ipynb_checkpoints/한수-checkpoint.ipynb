{
 "cells": [
  {
   "cell_type": "code",
   "execution_count": 6,
   "id": "98fdd563",
   "metadata": {},
   "outputs": [
    {
     "name": "stdout",
     "output_type": "stream",
     "text": [
      "1000\n",
      "144\n"
     ]
    }
   ],
   "source": [
    "def han(n):\n",
    "    if n<=99:\n",
    "        return True\n",
    "    elif n==1000:\n",
    "        return False\n",
    "    else:\n",
    "        a=str(n)\n",
    "        if int(a[2])-int(a[1])==int(a[1])-int(a[0]):\n",
    "            return True\n",
    "        else:\n",
    "            return False\n",
    "\n",
    "n=int(input())\n",
    "count=0\n",
    "for i in range(1, n+1):\n",
    "    if han(i)==True:\n",
    "        count+=1\n",
    "\n",
    "print(count)"
   ]
  }
 ],
 "metadata": {
  "kernelspec": {
   "display_name": "Python 3",
   "language": "python",
   "name": "python3"
  },
  "language_info": {
   "codemirror_mode": {
    "name": "ipython",
    "version": 3
   },
   "file_extension": ".py",
   "mimetype": "text/x-python",
   "name": "python",
   "nbconvert_exporter": "python",
   "pygments_lexer": "ipython3",
   "version": "3.8.8"
  }
 },
 "nbformat": 4,
 "nbformat_minor": 5
}
